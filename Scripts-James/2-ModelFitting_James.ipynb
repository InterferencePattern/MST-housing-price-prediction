{
 "cells": [
  {
   "cell_type": "markdown",
   "metadata": {},
   "source": [
    "# 0. Prepare environment"
   ]
  },
  {
   "cell_type": "code",
   "execution_count": 73,
   "metadata": {},
   "outputs": [],
   "source": [
    "import pandas as pd\n",
    "import numpy as np\n",
    "\n",
    "def rmsle(y_pred, y_test) : \n",
    "    assert len(y_test) == len(y_pred)\n",
    "    return np.sqrt(np.mean((np.log1p(y_pred) - np.log1p(y_test))**2))"
   ]
  },
  {
   "cell_type": "markdown",
   "metadata": {},
   "source": [
    "# 1. Load data from disk"
   ]
  },
  {
   "cell_type": "code",
   "execution_count": 74,
   "metadata": {},
   "outputs": [],
   "source": [
    "df_finalTrain = pd.read_csv('ProcessedTrain.csv')\n",
    "\n",
    "df_finalTest = pd.read_csv('ProcessedTest.csv')\n",
    "\n",
    "target_train = pd.read_csv('../data/train.csv').SalePrice"
   ]
  },
  {
   "cell_type": "markdown",
   "metadata": {},
   "source": [
    "# 2. Reduce number of features using Lasso regression"
   ]
  },
  {
   "cell_type": "code",
   "execution_count": null,
   "metadata": {},
   "outputs": [],
   "source": []
  },
  {
   "cell_type": "markdown",
   "metadata": {},
   "source": [
    "# 3. Try a decision tree"
   ]
  },
  {
   "cell_type": "code",
   "execution_count": 75,
   "metadata": {},
   "outputs": [
    {
     "name": "stdout",
     "output_type": "stream",
     "text": [
      "37.37169017306895\n",
      "2.7679039048583198e-05\n"
     ]
    }
   ],
   "source": [
    "from sklearn import tree\n",
    "from sklearn.metrics import mean_squared_error\n",
    "\n",
    "clf = tree.DecisionTreeRegressor()\n",
    "\n",
    "clf = clf.fit(df_finalTrain, target_train.apply(np.log))\n",
    "\n",
    "predictedVals = clf.predict(df_finalTrain)\n",
    "\n",
    "# What is the average difference between the real and predicted log(Price)?\n",
    "print(mean_squared_error(y_pred=np.exp(predictedVals), y_true=target_train))\n",
    "print(rmsle(np.exp(predictedVals), target_train))"
   ]
  },
  {
   "cell_type": "markdown",
   "metadata": {},
   "source": [
    "# 4. Try gradient boosting"
   ]
  },
  {
   "cell_type": "code",
   "execution_count": 76,
   "metadata": {},
   "outputs": [
    {
     "name": "stdout",
     "output_type": "stream",
     "text": [
      "1 : 0.8548146783795809\n",
      "2 : 0.8924664938056918\n",
      "3 : 0.8981911684866624\n",
      "4 : 0.8974180287231409\n",
      "5 : 0.893971800980785\n",
      "6 : 0.8901928071597174\n",
      "3\n"
     ]
    }
   ],
   "source": [
    "from sklearn.ensemble import GradientBoostingRegressor\n",
    "from sklearn.model_selection import cross_val_score\n",
    "\n",
    "# Cross-validate the results to optimize the max_depth of the trees:\n",
    "clfs = [0]\n",
    "fitScores = [0]\n",
    "for i in range(1,7):\n",
    "    clfs.append(GradientBoostingRegressor(max_depth=i, random_state=0, warm_start=False, n_estimators=1000, learning_rate=.01))\n",
    "    fitScores.append(cross_val_score(clfs[i], df_finalTrain, target_train.apply(np.log), cv=5, n_jobs=7).mean())\n",
    "    print(str(i) + \" : \" + str(fitScores[i]))\n",
    "\n",
    "bestDepth = fitScores.index(max(fitScores))\n",
    "print(bestDepth)"
   ]
  },
  {
   "cell_type": "code",
   "execution_count": 77,
   "metadata": {},
   "outputs": [],
   "source": [
    "clf = clfs[bestDepth]\n",
    "clf.fit(df_finalTrain, target_train.apply(np.log))\n",
    "\n",
    "predictedTrain = clf.predict(df_finalTrain)\n",
    "predictedTest = clf.predict(df_finalTest)"
   ]
  },
  {
   "cell_type": "code",
   "execution_count": 78,
   "metadata": {},
   "outputs": [
    {
     "name": "stdout",
     "output_type": "stream",
     "text": [
      "266644159.5643951\n",
      "16329.242467560922\n",
      "0.006730527819249037\n"
     ]
    },
    {
     "data": {
      "text/plain": [
       "(1460, 187)"
      ]
     },
     "execution_count": 78,
     "metadata": {},
     "output_type": "execute_result"
    }
   ],
   "source": [
    "# What is the average difference between the real and predicted log(Price)?\n",
    "print(mean_squared_error(y_pred=np.exp(predictedTrain), y_true=target_train))\n",
    "print(np.sqrt(mean_squared_error(y_pred=np.exp(predictedTrain), y_true=target_train)))\n",
    "print(rmsle(predictedTrain, target_train.apply(np.log)))\n",
    "df_finalTrain.shape"
   ]
  },
  {
   "cell_type": "markdown",
   "metadata": {},
   "source": [
    "# Write results to CSV in Kaggle format"
   ]
  },
  {
   "cell_type": "code",
   "execution_count": 79,
   "metadata": {},
   "outputs": [],
   "source": [
    "results = pd.Series(predictedTest)\n",
    "\n",
    "# test_predict is predicted prices from test set\n",
    "# zips Id with price\n",
    "\n",
    "id_price = list(zip(range(1461, 2920), np.exp(predictedTest)))\n",
    "\n",
    "# Rounds price to 1 decimal place (as per sample submission example)\n",
    "id_price = list(map(lambda x: [x[0], round(x[1], 1)], id_price))\n",
    "\n",
    "# Create a dataframe\n",
    "final_df = pd.DataFrame(id_price, columns=['Id', 'SalePrice'])\n",
    "\n",
    "\n",
    "# Wrtie to csv\n",
    "final_df.to_csv('submit_predictions.csv', index=False)"
   ]
  },
  {
   "cell_type": "code",
   "execution_count": null,
   "metadata": {},
   "outputs": [],
   "source": []
  }
 ],
 "metadata": {
  "kernelspec": {
   "display_name": "Python [default]",
   "language": "python",
   "name": "python3"
  },
  "language_info": {
   "codemirror_mode": {
    "name": "ipython",
    "version": 3
   },
   "file_extension": ".py",
   "mimetype": "text/x-python",
   "name": "python",
   "nbconvert_exporter": "python",
   "pygments_lexer": "ipython3",
   "version": "3.6.6"
  }
 },
 "nbformat": 4,
 "nbformat_minor": 2
}
