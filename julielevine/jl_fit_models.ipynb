{
 "cells": [
  {
   "cell_type": "code",
   "execution_count": 1,
   "metadata": {},
   "outputs": [],
   "source": [
    "# Import libraries\n",
    "import pandas as pd\n",
    "import numpy as np\n",
    "import statistics\n",
    "import re\n",
    "import matplotlib.pyplot as plt\n",
    "%matplotlib inline\n",
    "import seaborn as sns\n",
    "sns.set(font_scale=1.3, style=\"ticks\")\n",
    "fs = (14, 9) # make the figure wider than the default"
   ]
  },
  {
   "cell_type": "code",
   "execution_count": 3,
   "metadata": {},
   "outputs": [
    {
     "data": {
      "text/plain": [
       "(1460, 78)"
      ]
     },
     "execution_count": 3,
     "metadata": {},
     "output_type": "execute_result"
    }
   ],
   "source": [
    "# Load the training data\n",
    "houses = pd.read_csv(\"data/cleaned_data/cleaned_train.csv\")\n",
    "\n",
    "# Load the test data\n",
    "houses_test = pd.read_csv(\"data/cleaned_data/cleaned_test.csv\")\n",
    "\n",
    "houses.shape"
   ]
  },
  {
   "cell_type": "code",
   "execution_count": 4,
   "metadata": {},
   "outputs": [
    {
     "data": {
      "text/html": [
       "<div>\n",
       "<style scoped>\n",
       "    .dataframe tbody tr th:only-of-type {\n",
       "        vertical-align: middle;\n",
       "    }\n",
       "\n",
       "    .dataframe tbody tr th {\n",
       "        vertical-align: top;\n",
       "    }\n",
       "\n",
       "    .dataframe thead th {\n",
       "        text-align: right;\n",
       "    }\n",
       "</style>\n",
       "<table border=\"1\" class=\"dataframe\">\n",
       "  <thead>\n",
       "    <tr style=\"text-align: right;\">\n",
       "      <th></th>\n",
       "      <th>cnt_missing</th>\n",
       "      <th>pct_missing</th>\n",
       "    </tr>\n",
       "  </thead>\n",
       "  <tbody>\n",
       "    <tr>\n",
       "      <th>GarageYrBlt</th>\n",
       "      <td>81</td>\n",
       "      <td>5.55</td>\n",
       "    </tr>\n",
       "    <tr>\n",
       "      <th>Electrical</th>\n",
       "      <td>1</td>\n",
       "      <td>0.07</td>\n",
       "    </tr>\n",
       "  </tbody>\n",
       "</table>\n",
       "</div>"
      ],
      "text/plain": [
       "             cnt_missing  pct_missing\n",
       "GarageYrBlt           81         5.55\n",
       "Electrical             1         0.07"
      ]
     },
     "execution_count": 4,
     "metadata": {},
     "output_type": "execute_result"
    }
   ],
   "source": [
    "# Override spurious NAs\n",
    "# FireplaceQu\n",
    "houses.FireplaceQu.fillna(\"NA\", inplace=True)\n",
    "# Garages\n",
    "houses.GarageType.fillna(\"NA\",inplace=True)\n",
    "houses.GarageFinish.fillna(\"NA\",inplace=True)\n",
    "houses.GarageQual.fillna(\"NA\",inplace=True)\n",
    "houses.GarageCond.fillna(\"NA\",inplace=True)\n",
    "# Basements\n",
    "houses.BsmtExposure.fillna(\"NA\",inplace=True)\n",
    "houses.BsmtFinType1.fillna(\"NA\",inplace=True)\n",
    "houses.BsmtFinType2.fillna(\"NA\",inplace=True)\n",
    "houses.BsmtQual.fillna(\"NA\",inplace=True)\n",
    "houses.BsmtCond.fillna(\"NA\",inplace=True)\n",
    "# Masonry\n",
    "houses.MasVnrType.fillna(\"NA\",inplace=True)\n",
    "houses.MasVnrArea.fillna(0,inplace=True)\n",
    "# What % data (if any) is missing for each column?\n",
    "nulls = houses.isnull().sum()\n",
    "nulls = pd.DataFrame(nulls)\n",
    "nulls.rename(columns={0:\"cnt_missing\"},inplace=True)\n",
    "nulls = nulls[nulls.cnt_missing>0]\n",
    "nulls['pct_missing'] = round(nulls.cnt_missing/houses.shape[0] * 100,2)\n",
    "nulls.sort_values(by=\"pct_missing\",ascending=False)"
   ]
  },
  {
   "cell_type": "code",
   "execution_count": null,
   "metadata": {},
   "outputs": [],
   "source": [
    "# List columns with type object\n",
    "# objs = houses.select_dtypes(include=['object']).dtypes\n",
    "# objs = [re.sub(\" *object\",\"\",s) for s in objs.index]"
   ]
  }
 ],
 "metadata": {
  "kernelspec": {
   "display_name": "Python 3",
   "language": "python",
   "name": "python3"
  },
  "language_info": {
   "codemirror_mode": {
    "name": "ipython",
    "version": 3
   },
   "file_extension": ".py",
   "mimetype": "text/x-python",
   "name": "python",
   "nbconvert_exporter": "python",
   "pygments_lexer": "ipython3",
   "version": "3.6.5"
  }
 },
 "nbformat": 4,
 "nbformat_minor": 2
}
