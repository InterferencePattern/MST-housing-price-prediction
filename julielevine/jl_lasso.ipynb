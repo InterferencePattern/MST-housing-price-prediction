{
 "cells": [
  {
   "cell_type": "markdown",
   "metadata": {},
   "source": [
    "# Kaggle House Prices - Lasso Regression\n",
    "## Libraries"
   ]
  },
  {
   "cell_type": "code",
   "execution_count": 133,
   "metadata": {},
   "outputs": [],
   "source": [
    "# Data\n",
    "import pandas as pd\n",
    "import numpy as np\n",
    "import statistics\n",
    "from IPython.display import display\n",
    "pd.options.display.max_columns = None\n",
    "\n",
    "# ML\n",
    "from sklearn.model_selection import train_test_split\n",
    "from sklearn import linear_model\n",
    "from sklearn.metrics import mean_squared_error\n",
    "\n",
    "# Plots\n",
    "import matplotlib.pyplot as plt\n",
    "%matplotlib inline\n",
    "import seaborn as sns\n",
    "sns.set(font_scale=1.5, style=\"ticks\")\n",
    "fs = (14, 6) # make the figure wider than the default\n",
    "\n",
    "# hide warnings\n",
    "import warnings\n",
    "warnings.filterwarnings('ignore')"
   ]
  },
  {
   "cell_type": "markdown",
   "metadata": {},
   "source": [
    "# Load Data"
   ]
  },
  {
   "cell_type": "code",
   "execution_count": 5,
   "metadata": {},
   "outputs": [
    {
     "data": {
      "text/plain": [
       "(1460, 81)"
      ]
     },
     "execution_count": 5,
     "metadata": {},
     "output_type": "execute_result"
    }
   ],
   "source": [
    "houses = pd.read_csv('data/cleaned_data/clean_train2.csv')\n",
    "houses.shape"
   ]
  },
  {
   "cell_type": "markdown",
   "metadata": {},
   "source": [
    "## Clean the training data"
   ]
  },
  {
   "cell_type": "code",
   "execution_count": 6,
   "metadata": {},
   "outputs": [],
   "source": [
    "# Function for data cleaning\n",
    "def cleanme(houses):\n",
    "    # Override spurious NAs\n",
    "    # PoolQu\n",
    "    houses.PoolQC.fillna(\"NA\", inplace=True)\n",
    "\n",
    "    #MiscFeature\n",
    "    houses.MiscFeature.fillna(\"NA\", inplace=True)\n",
    "\n",
    "    #Alley\n",
    "    houses.Alley.fillna(\"NA\", inplace=True)\n",
    "\n",
    "    # Fence\n",
    "    houses.Fence.fillna(\"NA\", inplace=True)\n",
    "\n",
    "    # FireplaceQu\n",
    "    houses.FireplaceQu.fillna(\"NA\", inplace=True)\n",
    "\n",
    "    # Garages\n",
    "    houses.GarageType.fillna(\"NA\",inplace=True)\n",
    "    houses.GarageFinish.fillna(\"NA\",inplace=True)\n",
    "    houses.GarageQual.fillna(\"NA\",inplace=True)\n",
    "    houses.GarageCond.fillna(\"NA\",inplace=True)\n",
    "    houses.GarageCars.fillna(0, inplace=True)\n",
    "    houses.GarageArea.fillna(0, inplace=True)\n",
    "\n",
    "    # Basements\n",
    "    houses.BsmtExposure.fillna(\"NA\",inplace=True)\n",
    "    houses.BsmtFinType1.fillna(\"NA\",inplace=True)\n",
    "    houses.BsmtFinType2.fillna(\"NA\",inplace=True)\n",
    "    houses.BsmtQual.fillna(\"NA\",inplace=True)\n",
    "    houses.BsmtCond.fillna(\"NA\",inplace=True)\n",
    "    houses.BsmtFullBath.fillna(0,inplace=True)\n",
    "    houses.BsmtFinSF1.fillna(0,inplace=True)\n",
    "    houses.BsmtFinSF2.fillna(0,inplace=True)\n",
    "    houses.BsmtUnfSF.fillna(0,inplace=True)\n",
    "    houses.BsmtHalfBath.fillna(0,inplace=True)\n",
    "    houses.TotalBsmtSF.fillna(0,inplace=True)\n",
    "\n",
    "    # Masonry\n",
    "    houses.MasVnrType.fillna(\"NA\",inplace=True)\n",
    "    houses.MasVnrArea.fillna(0,inplace=True)\n",
    "\n",
    "    # KitchenQual\n",
    "    houses.KitchenQual.fillna(\"TA\",inplace=True)\n",
    "\n",
    "    # Utilities\n",
    "    houses.Utilities.fillna(\"AllPub\",inplace=True)\n",
    "\n",
    "    #Functional\n",
    "    houses.Functional.fillna(\"Typ\",inplace=True)\n",
    "\n",
    "    #Exterior Siding\n",
    "    houses.Exterior1st.fillna(\"VinylSd\", inplace=True)\n",
    "    houses.Exterior2nd.fillna(\"VinylSd\", inplace=True)\n",
    "\n",
    "    # Zoning\n",
    "    houses.MSZoning.fillna(\"RL\",inplace=True)\n",
    "\n",
    "    # Sale Type\n",
    "    houses.SaleType.fillna(\"WD\",inplace=True)\n",
    "\n",
    "    # Electrical\n",
    "    houses.Electrical.fillna(\"SRbkr\", inplace=True)\n",
    "    \n",
    "    # Change some strings to ordinal values\n",
    "    # ExterQual\n",
    "    exterqual = {\"Po\" : 0, \"Fa\": 1, 'TA':2, 'Gd':3, 'Ex':4}\n",
    "    houses.ExterQual = houses.ExterQual.apply(lambda v: exterqual[v])\n",
    "    # ExterCond\n",
    "    extercond = {\"Po\" : 0, \"Fa\": 1, 'TA':2, 'Gd':3, 'Ex':4}\n",
    "    houses.ExterCond = houses.ExterCond.apply(lambda v: extercond[v])\n",
    "    # BsmtQual\n",
    "    basmtqual = {\"NA\":0, \"Po\" : 1, \"Fa\": 2, 'TA':3, 'Gd':4, 'Ex':5}\n",
    "    houses.BsmtQual = houses.BsmtQual.apply(lambda v: basmtqual[v])\n",
    "    # BsmtCond\n",
    "    basmtcond = {\"NA\":0, \"Po\" : 1, \"Fa\": 2, 'TA':3, 'Gd':4, 'Ex':5}\n",
    "    houses.BsmtCond = houses.BsmtCond.apply(lambda v: basmtcond[v])\n",
    "    # BsmtExposure\n",
    "    basmtexposure = {\"NA\" : 0, \"No\": 1, 'Mn':2, 'Av':3, 'Gd': 4}\n",
    "    houses.BsmtExposure = houses.BsmtExposure.apply(lambda v: basmtexposure[v])\n",
    "    # BsmtFinType_1\n",
    "    bsmtfintype = {\"NA\":0, \"Unf\" : 1, \"LwQ\": 2, 'Rec':3, 'BLQ':4, 'ALQ':5, \"GLQ\": 6}\n",
    "    houses.BsmtFinType1 = houses.BsmtFinType1.apply(lambda v: bsmtfintype[v])\n",
    "    # KitchenQual\n",
    "    kitqual = {'Fa':0,'TA':1,'Gd':2, 'Ex':3}\n",
    "    houses.KitchenQual = houses.KitchenQual.apply(lambda v: kitqual[v])\n",
    "    # Functional\n",
    "    functional = {'Typ':7, 'Min1':6, 'Min2':5, 'Mod':4, 'Maj1':3, 'Maj2':2, 'Sev':1, 'Sal':0}\n",
    "    houses.Functional = houses.Functional.apply(lambda v: functional[v])\n",
    "    # FireplaceQu\n",
    "    fireplacequ = {'NA':0,'Po':1,'Fa':2,'TA':3,'Gd':4,'Ex':5}\n",
    "    houses.FireplaceQu = houses.FireplaceQu.apply(lambda v: fireplacequ[v])\n",
    "    # GarageFinish\n",
    "    garagefinish = {'NA':0,'Unf':1,'RFn':2,'Fin':3}\n",
    "    houses.GarageFinish = houses.GarageFinish.apply(lambda v: garagefinish[v])"
   ]
  },
  {
   "cell_type": "code",
   "execution_count": 7,
   "metadata": {},
   "outputs": [],
   "source": [
    "cleanme(houses)"
   ]
  },
  {
   "cell_type": "markdown",
   "metadata": {},
   "source": [
    "## Load and clean the test data"
   ]
  },
  {
   "cell_type": "code",
   "execution_count": 8,
   "metadata": {},
   "outputs": [],
   "source": [
    "test_houses = pd.read_csv('data/cleaned_data/clean_test.csv')\n",
    "test_houses.shape\n",
    "cleanme(test_houses)"
   ]
  },
  {
   "cell_type": "markdown",
   "metadata": {},
   "source": [
    "# Train Lasso"
   ]
  },
  {
   "cell_type": "code",
   "execution_count": 126,
   "metadata": {},
   "outputs": [],
   "source": [
    "def get_err(length,predicted,truth):\n",
    "    # Mean absolute error\n",
    "    abs_err = [0] * length\n",
    "    for i in range(0,length):\n",
    "            abs_err[i] = abs(predicted[i] - truth[i])\n",
    "\n",
    "    mae = statistics.mean(abs_err)\n",
    "    print(\"Mean Absolute Error:\",round(mae,2))\n",
    "\n",
    "    # Mean abs percent error\n",
    "    pct_err = [0] * length\n",
    "    for i in range(0,length):\n",
    "        pct_err[i] = abs_err[i] / truth[i] * 100\n",
    "    mpae = statistics.mean(pct_err)\n",
    "\n",
    "    print(\"Mean Abs Pct Error:\",round(mpae,2),\"%\")\n",
    "\n",
    "    accuracy = 100 - mpae\n",
    "    print('Accuracy:', round(accuracy, 2), '%.')\n",
    "\n",
    "    # Mean Square Error\n",
    "    err_sq = [0] * length\n",
    "    for i in range(0,length):\n",
    "        err_sq[i] = abs_err[i]**2\n",
    "\n",
    "    print(\"Mean Square Error: \",statistics.mean(err_sq))"
   ]
  },
  {
   "cell_type": "code",
   "execution_count": 12,
   "metadata": {},
   "outputs": [],
   "source": [
    "X = houses.drop('GarageYrBlt', axis=1).drop('SalePrice', axis=1).drop('Id',axis=1) # features (drop ID and GarageYrBlt)\n",
    "X = pd.get_dummies(X, drop_first=True, dummy_na=True)                              # encoded features\n",
    "y = houses.SalePrice                                                               # response variable\n",
    "\n",
    "# 80% train-test-split\n",
    "X_train, X_test, y_train, y_test = train_test_split(X, y, test_size = 0.2, random_state=0)"
   ]
  },
  {
   "cell_type": "code",
   "execution_count": 110,
   "metadata": {},
   "outputs": [],
   "source": [
    "# Train Lasso\n",
    "alphas = 10**np.linspace(10,-2,100)*0.5\n",
    "scores = np.empty_like(alphas)\n",
    "cos = []\n",
    "for i,a in enumerate(alphas):\n",
    "    lasso = linear_model.Lasso()\n",
    "    lasso.set_params(alpha=a)\n",
    "    lasso.fit(X_train, y_train)\n",
    "    scores[i] = lasso.score(X_test, y_test)\n",
    "    cos.append(lasso.coef_)"
   ]
  },
  {
   "cell_type": "code",
   "execution_count": 111,
   "metadata": {},
   "outputs": [
    {
     "data": {
      "text/html": [
       "<div>\n",
       "<style scoped>\n",
       "    .dataframe tbody tr th:only-of-type {\n",
       "        vertical-align: middle;\n",
       "    }\n",
       "\n",
       "    .dataframe tbody tr th {\n",
       "        vertical-align: top;\n",
       "    }\n",
       "\n",
       "    .dataframe thead th {\n",
       "        text-align: right;\n",
       "    }\n",
       "</style>\n",
       "<table border=\"1\" class=\"dataframe\">\n",
       "  <thead>\n",
       "    <tr style=\"text-align: right;\">\n",
       "      <th></th>\n",
       "      <th>alpha</th>\n",
       "      <th>score</th>\n",
       "    </tr>\n",
       "  </thead>\n",
       "  <tbody>\n",
       "    <tr>\n",
       "      <th>98</th>\n",
       "      <td>1010.110909</td>\n",
       "      <td>0.663727</td>\n",
       "    </tr>\n",
       "  </tbody>\n",
       "</table>\n",
       "</div>"
      ],
      "text/plain": [
       "          alpha     score\n",
       "98  1010.110909  0.663727"
      ]
     },
     "execution_count": 111,
     "metadata": {},
     "output_type": "execute_result"
    }
   ],
   "source": [
    "alphadf = pd.DataFrame({\"alpha\":alphas, \"score\":scores})\n",
    "alphadf[alphadf.score==max(alphadf.score)]"
   ]
  },
  {
   "cell_type": "code",
   "execution_count": 112,
   "metadata": {},
   "outputs": [],
   "source": [
    "lassocv = linear_model.LassoCV(alphas = alphas, random_state=0)\n",
    "lassocv.fit(X, y)\n",
    "lassocv_score = lassocv.score(X, y)\n",
    "lassocv_alpha = lassocv.alpha_"
   ]
  },
  {
   "cell_type": "code",
   "execution_count": 113,
   "metadata": {},
   "outputs": [
    {
     "name": "stdout",
     "output_type": "stream",
     "text": [
      "alpha:  1010.1109090909013\n",
      "R**2: 0.8317532641952724\n"
     ]
    }
   ],
   "source": [
    "print(\"alpha: \",lassocv_alpha)\n",
    "print(\"R**2:\",lassocv_score)"
   ]
  },
  {
   "cell_type": "code",
   "execution_count": 114,
   "metadata": {},
   "outputs": [],
   "source": [
    "coeff = pd.DataFrame({\"feature\":X.columns,\"coeff\":lassocv.coef_})"
   ]
  },
  {
   "cell_type": "code",
   "execution_count": 123,
   "metadata": {},
   "outputs": [
    {
     "name": "stdout",
     "output_type": "stream",
     "text": [
      "(29, 2)\n"
     ]
    },
    {
     "data": {
      "text/html": [
       "<div>\n",
       "<style scoped>\n",
       "    .dataframe tbody tr th:only-of-type {\n",
       "        vertical-align: middle;\n",
       "    }\n",
       "\n",
       "    .dataframe tbody tr th {\n",
       "        vertical-align: top;\n",
       "    }\n",
       "\n",
       "    .dataframe thead th {\n",
       "        text-align: right;\n",
       "    }\n",
       "</style>\n",
       "<table border=\"1\" class=\"dataframe\">\n",
       "  <thead>\n",
       "    <tr style=\"text-align: right;\">\n",
       "      <th></th>\n",
       "      <th>feature</th>\n",
       "      <th>coeff</th>\n",
       "    </tr>\n",
       "  </thead>\n",
       "  <tbody>\n",
       "    <tr>\n",
       "      <th>2</th>\n",
       "      <td>LotArea</td>\n",
       "      <td>0.381858</td>\n",
       "    </tr>\n",
       "    <tr>\n",
       "      <th>3</th>\n",
       "      <td>OverallQual</td>\n",
       "      <td>13200.139990</td>\n",
       "    </tr>\n",
       "    <tr>\n",
       "      <th>4</th>\n",
       "      <td>OverallCond</td>\n",
       "      <td>2430.125819</td>\n",
       "    </tr>\n",
       "    <tr>\n",
       "      <th>5</th>\n",
       "      <td>YearBuilt</td>\n",
       "      <td>236.016922</td>\n",
       "    </tr>\n",
       "    <tr>\n",
       "      <th>6</th>\n",
       "      <td>YearRemodAdd</td>\n",
       "      <td>126.275023</td>\n",
       "    </tr>\n",
       "    <tr>\n",
       "      <th>7</th>\n",
       "      <td>MasVnrArea</td>\n",
       "      <td>32.434175</td>\n",
       "    </tr>\n",
       "    <tr>\n",
       "      <th>8</th>\n",
       "      <td>ExterQual</td>\n",
       "      <td>8492.896990</td>\n",
       "    </tr>\n",
       "    <tr>\n",
       "      <th>10</th>\n",
       "      <td>BsmtQual</td>\n",
       "      <td>2454.116396</td>\n",
       "    </tr>\n",
       "    <tr>\n",
       "      <th>12</th>\n",
       "      <td>BsmtExposure</td>\n",
       "      <td>5350.314815</td>\n",
       "    </tr>\n",
       "    <tr>\n",
       "      <th>13</th>\n",
       "      <td>BsmtFinType1</td>\n",
       "      <td>1089.825216</td>\n",
       "    </tr>\n",
       "    <tr>\n",
       "      <th>14</th>\n",
       "      <td>BsmtFinSF1</td>\n",
       "      <td>9.650926</td>\n",
       "    </tr>\n",
       "    <tr>\n",
       "      <th>15</th>\n",
       "      <td>BsmtFinSF2</td>\n",
       "      <td>1.891934</td>\n",
       "    </tr>\n",
       "    <tr>\n",
       "      <th>18</th>\n",
       "      <td>FirstFlrSF</td>\n",
       "      <td>52.686996</td>\n",
       "    </tr>\n",
       "    <tr>\n",
       "      <th>19</th>\n",
       "      <td>SecondFlrSF</td>\n",
       "      <td>47.178084</td>\n",
       "    </tr>\n",
       "    <tr>\n",
       "      <th>20</th>\n",
       "      <td>LowQualFinSF</td>\n",
       "      <td>29.997600</td>\n",
       "    </tr>\n",
       "    <tr>\n",
       "      <th>21</th>\n",
       "      <td>GrLivArea</td>\n",
       "      <td>6.684950</td>\n",
       "    </tr>\n",
       "    <tr>\n",
       "      <th>28</th>\n",
       "      <td>KitchenQual</td>\n",
       "      <td>7186.623472</td>\n",
       "    </tr>\n",
       "    <tr>\n",
       "      <th>29</th>\n",
       "      <td>TotRmsAbvGrd</td>\n",
       "      <td>867.728740</td>\n",
       "    </tr>\n",
       "    <tr>\n",
       "      <th>30</th>\n",
       "      <td>Functional</td>\n",
       "      <td>2729.755955</td>\n",
       "    </tr>\n",
       "    <tr>\n",
       "      <th>32</th>\n",
       "      <td>FireplaceQu</td>\n",
       "      <td>1859.570815</td>\n",
       "    </tr>\n",
       "    <tr>\n",
       "      <th>34</th>\n",
       "      <td>GarageCars</td>\n",
       "      <td>1192.044386</td>\n",
       "    </tr>\n",
       "    <tr>\n",
       "      <th>35</th>\n",
       "      <td>GarageArea</td>\n",
       "      <td>23.015364</td>\n",
       "    </tr>\n",
       "    <tr>\n",
       "      <th>36</th>\n",
       "      <td>WoodDeckSF</td>\n",
       "      <td>22.226048</td>\n",
       "    </tr>\n",
       "    <tr>\n",
       "      <th>38</th>\n",
       "      <td>EnclosedPorch</td>\n",
       "      <td>5.673895</td>\n",
       "    </tr>\n",
       "    <tr>\n",
       "      <th>39</th>\n",
       "      <td>ThirdSsnPorch</td>\n",
       "      <td>26.971090</td>\n",
       "    </tr>\n",
       "    <tr>\n",
       "      <th>40</th>\n",
       "      <td>ScreenPorch</td>\n",
       "      <td>53.435192</td>\n",
       "    </tr>\n",
       "    <tr>\n",
       "      <th>88</th>\n",
       "      <td>Neighborhood_NridgHt</td>\n",
       "      <td>9310.433651</td>\n",
       "    </tr>\n",
       "    <tr>\n",
       "      <th>99</th>\n",
       "      <td>Condition1_Norm</td>\n",
       "      <td>4488.777818</td>\n",
       "    </tr>\n",
       "    <tr>\n",
       "      <th>251</th>\n",
       "      <td>SaleType_New</td>\n",
       "      <td>2848.794840</td>\n",
       "    </tr>\n",
       "  </tbody>\n",
       "</table>\n",
       "</div>"
      ],
      "text/plain": [
       "                  feature         coeff\n",
       "2                 LotArea      0.381858\n",
       "3             OverallQual  13200.139990\n",
       "4             OverallCond   2430.125819\n",
       "5               YearBuilt    236.016922\n",
       "6            YearRemodAdd    126.275023\n",
       "7              MasVnrArea     32.434175\n",
       "8               ExterQual   8492.896990\n",
       "10               BsmtQual   2454.116396\n",
       "12           BsmtExposure   5350.314815\n",
       "13           BsmtFinType1   1089.825216\n",
       "14             BsmtFinSF1      9.650926\n",
       "15             BsmtFinSF2      1.891934\n",
       "18             FirstFlrSF     52.686996\n",
       "19            SecondFlrSF     47.178084\n",
       "20           LowQualFinSF     29.997600\n",
       "21              GrLivArea      6.684950\n",
       "28            KitchenQual   7186.623472\n",
       "29           TotRmsAbvGrd    867.728740\n",
       "30             Functional   2729.755955\n",
       "32            FireplaceQu   1859.570815\n",
       "34             GarageCars   1192.044386\n",
       "35             GarageArea     23.015364\n",
       "36             WoodDeckSF     22.226048\n",
       "38          EnclosedPorch      5.673895\n",
       "39          ThirdSsnPorch     26.971090\n",
       "40            ScreenPorch     53.435192\n",
       "88   Neighborhood_NridgHt   9310.433651\n",
       "99        Condition1_Norm   4488.777818\n",
       "251          SaleType_New   2848.794840"
      ]
     },
     "execution_count": 123,
     "metadata": {},
     "output_type": "execute_result"
    }
   ],
   "source": [
    "print(coeff[coeff.coeff>0].shape)\n",
    "coeff[coeff.coeff>0]"
   ]
  },
  {
   "cell_type": "code",
   "execution_count": 144,
   "metadata": {},
   "outputs": [
    {
     "data": {
      "image/png": "[encoded data removed]",
      "text/plain": [
       "<Figure size 432x288 with 1 Axes>"
      ]
     },
     "metadata": {},
     "output_type": "display_data"
    }
   ],
   "source": [
    "# plt.figure(figsize=(10,4))\n",
    "ax = plt.gca()\n",
    "\n",
    "ax.plot(alphas, cos)\n",
    "ax.set_xscale('log')\n",
    "plt.xlabel('alpha')\n",
    "plt.ylabel('weights')\n",
    "plt.title('Lasso coefficients as a function of the regularization')\n",
    "plt.axis('tight')\n",
    "plt.show()"
   ]
  },
  {
   "cell_type": "code",
   "execution_count": 146,
   "metadata": {},
   "outputs": [
    {
     "name": "stdout",
     "output_type": "stream",
     "text": [
      "Mean Absolute Error: 21187.06\n",
      "Mean Abs Pct Error: 12.34 %\n",
      "Accuracy: 87.66 %.\n",
      "Mean Square Error:  1834305503.3517718\n"
     ]
    }
   ],
   "source": [
    "pred = lassocv.predict(X_test)\n",
    "y_test = [i for i in y_test]\n",
    "get_err(len(pred),pred,y_test)"
   ]
  },
  {
   "cell_type": "code",
   "execution_count": null,
   "metadata": {},
   "outputs": [],
   "source": []
  },
  {
   "cell_type": "code",
   "execution_count": null,
   "metadata": {},
   "outputs": [],
   "source": []
  }
 ],
 "metadata": {
  "kernelspec": {
   "display_name": "Python 3",
   "language": "python",
   "name": "python3"
  },
  "language_info": {
   "codemirror_mode": {
    "name": "ipython",
    "version": 3
   },
   "file_extension": ".py",
   "mimetype": "text/x-python",
   "name": "python",
   "nbconvert_exporter": "python",
   "pygments_lexer": "ipython3",
   "version": "3.6.5"
  }
 },
 "nbformat": 4,
 "nbformat_minor": 2
}
