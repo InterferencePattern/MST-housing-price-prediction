{
 "cells": [
  {
   "cell_type": "markdown",
   "metadata": {},
   "source": [
    "# Kaggle House Prices - Fit Random Forest Model"
   ]
  },
  {
   "cell_type": "code",
   "execution_count": 1,
   "metadata": {},
   "outputs": [],
   "source": [
    "# Data\n",
    "import pandas as pd\n",
    "import numpy as np\n",
    "import statistics\n",
    "import re\n",
    "import math\n",
    "from scipy import stats\n",
    "\n",
    "# Plots\n",
    "import matplotlib.pyplot as plt\n",
    "%matplotlib inline\n",
    "import seaborn as sns\n",
    "sns.set(font_scale=1.5, style=\"ticks\")\n",
    "fs = (14, 6) # make the figure wider than the default\n",
    "\n",
    "# View all cols in jupyter notebook\n",
    "from IPython.display import display\n",
    "pd.options.display.max_columns = None"
   ]
  },
  {
   "cell_type": "markdown",
   "metadata": {},
   "source": [
    "## Load and Transform the Data\n",
    "* Load the data\n",
    "* Fill 'NA's\n",
    "* Correct data types"
   ]
  },
  {
   "cell_type": "code",
   "execution_count": 2,
   "metadata": {},
   "outputs": [],
   "source": [
    "### Define a function to transform the data\n",
    "def cleanme(houses):\n",
    "    ## Rename columns starting with numbers\n",
    "    col_names = [key for key in dict(houses.dtypes) if re.search(\"^[^A-Z]\",key) != None]\n",
    "    new_col_names = ['FirstFlrSF', 'SecondFlrSF', 'ThirdSsnPorch']\n",
    "    new_col_names = dict(zip(col_names,new_col_names))\n",
    "    houses.rename(columns=new_col_names, inplace=True)\n",
    "    \n",
    "    ## Override spurious NAs\n",
    "    # PoolQu\n",
    "    houses.PoolQC.fillna(\"NA\", inplace=True)\n",
    "    #MiscFeature\n",
    "    houses.MiscFeature.fillna(\"NA\", inplace=True)\n",
    "    #Alley\n",
    "    houses.Alley.fillna(\"NA\", inplace=True)\n",
    "    # Fence\n",
    "    houses.Fence.fillna(\"NA\", inplace=True)\n",
    "    # FireplaceQu\n",
    "    houses.FireplaceQu.fillna(\"NA\", inplace=True)\n",
    "    # Garages\n",
    "    houses.GarageType.fillna(\"NA\",inplace=True)\n",
    "    houses.GarageFinish.fillna(\"NA\",inplace=True)\n",
    "    houses.GarageQual.fillna(\"NA\",inplace=True)\n",
    "    houses.GarageCond.fillna(\"NA\",inplace=True)\n",
    "    # Basements\n",
    "    houses.BsmtExposure.fillna(\"NA\",inplace=True)\n",
    "    houses.BsmtFinType1.fillna(\"NA\",inplace=True)\n",
    "    houses.BsmtFinType2.fillna(\"NA\",inplace=True)\n",
    "    houses.BsmtQual.fillna(\"NA\",inplace=True)\n",
    "    houses.BsmtCond.fillna(\"NA\",inplace=True)\n",
    "    # Masonry\n",
    "    houses.MasVnrType.fillna(\"NA\",inplace=True)\n",
    "    houses.MasVnrArea.fillna(0,inplace=True)\n",
    "    # Lot Frontage\n",
    "    houses.LotFrontage.fillna(0, inplace=True)\n",
    "\n",
    "    ## Change some strings to ordinal values\n",
    "    # ExterQual\n",
    "    exterqual = {\"Po\" : 0, \"Fa\": 1, 'TA':2, 'Gd':3, 'Ex':4}\n",
    "    houses.ExterQual = houses.ExterQual.apply(lambda v: exterqual[v])\n",
    "    # ExterCond\n",
    "    extercond = {\"Po\" : 0, \"Fa\": 1, 'TA':2, 'Gd':3, 'Ex':4}\n",
    "    houses.ExterCond = houses.ExterCond.apply(lambda v: extercond[v])\n",
    "    # BsmtQual\n",
    "    basmtqual = {\"NA\":0, \"Po\" : 1, \"Fa\": 2, 'TA':3, 'Gd':4, 'Ex':5}\n",
    "    houses.BsmtQual = houses.BsmtQual.apply(lambda v: basmtqual[v])\n",
    "    # BsmtCond\n",
    "    basmtcond = {\"NA\":0, \"Po\" : 1, \"Fa\": 2, 'TA':3, 'Gd':4, 'Ex':5}\n",
    "    houses.BsmtCond = houses.BsmtCond.apply(lambda v: basmtcond[v])\n",
    "    # BsmtExposure\n",
    "    basmtexposure = {\"NA\" : 0, \"No\": 1, 'Mn':2, 'Av':3, 'Gd': 4}\n",
    "    houses.BsmtExposure = houses.BsmtExposure.apply(lambda v: basmtexposure[v])\n",
    "    # BsmtFinType_1\n",
    "    bsmtfintype = {\"NA\":0, \"Unf\" : 1, \"LwQ\": 2, 'Rec':3, 'BLQ':4, 'ALQ':5, \"GLQ\": 6}\n",
    "    houses.BsmtFinType1 = houses.BsmtFinType1.apply(lambda v: bsmtfintype[v])\n",
    "    # KitchenQual\n",
    "    kitqual = {'Fa':0,'TA':1,'Gd':2, 'Ex':3}\n",
    "    houses.KitchenQual = houses.KitchenQual.apply(lambda v: kitqual[v])\n",
    "    # Functional\n",
    "    functional = {'Typ':7, 'Min1':6, 'Min2':5, 'Mod':4, 'Maj1':3, 'Maj2':2, 'Sev':1, 'Sal':0}\n",
    "    houses.Functional = houses.Functional.apply(lambda v: functional[v])\n",
    "    # FireplaceQu\n",
    "    fireplacequ = {'NA':0,'Po':1,'Fa':2,'TA':3,'Gd':4,'Ex':5}\n",
    "    houses.FireplaceQu = houses.FireplaceQu.apply(lambda v: fireplacequ[v])\n",
    "    # GarageFinish\n",
    "    garagefinish = {'NA':0,'Unf':1,'RFn':2,'Fin':3}\n",
    "    houses.GarageFinish = houses.GarageFinish.apply(lambda v: garagefinish[v])\n",
    "    \n",
    "    ## Transform non-linear features\n",
    "    # BsmtFinSF1\n",
    "    x = houses.BsmtFinSF1.apply(lambda x: x + 1)\n",
    "    houses.BsmtFinSF1,_ = stats.boxcox(x)\n",
    "    "
   ]
  },
  {
   "cell_type": "code",
   "execution_count": 3,
   "metadata": {},
   "outputs": [
    {
     "name": "stdout",
     "output_type": "stream",
     "text": [
      "(1460, 81)\n"
     ]
    }
   ],
   "source": [
    "# Load the training data\n",
    "houses = pd.read_csv(\"data/train.csv\")\n",
    "print(houses.shape)\n",
    "\n",
    "# Clean it\n",
    "cleanme(houses)"
   ]
  },
  {
   "cell_type": "code",
   "execution_count": 4,
   "metadata": {},
   "outputs": [
    {
     "data": {
      "text/html": [
       "<div>\n",
       "<style scoped>\n",
       "    .dataframe tbody tr th:only-of-type {\n",
       "        vertical-align: middle;\n",
       "    }\n",
       "\n",
       "    .dataframe tbody tr th {\n",
       "        vertical-align: top;\n",
       "    }\n",
       "\n",
       "    .dataframe thead th {\n",
       "        text-align: right;\n",
       "    }\n",
       "</style>\n",
       "<table border=\"1\" class=\"dataframe\">\n",
       "  <thead>\n",
       "    <tr style=\"text-align: right;\">\n",
       "      <th></th>\n",
       "      <th>cnt_missing</th>\n",
       "      <th>pct_missing</th>\n",
       "    </tr>\n",
       "  </thead>\n",
       "  <tbody>\n",
       "    <tr>\n",
       "      <th>GarageYrBlt</th>\n",
       "      <td>81</td>\n",
       "      <td>5.55</td>\n",
       "    </tr>\n",
       "    <tr>\n",
       "      <th>Electrical</th>\n",
       "      <td>1</td>\n",
       "      <td>0.07</td>\n",
       "    </tr>\n",
       "  </tbody>\n",
       "</table>\n",
       "</div>"
      ],
      "text/plain": [
       "             cnt_missing  pct_missing\n",
       "GarageYrBlt           81         5.55\n",
       "Electrical             1         0.07"
      ]
     },
     "execution_count": 4,
     "metadata": {},
     "output_type": "execute_result"
    }
   ],
   "source": [
    "# What % data (if any) is missing for each column?\n",
    "nulls = houses.isnull().sum()\n",
    "nulls = pd.DataFrame(nulls)\n",
    "nulls.rename(columns={0:\"cnt_missing\"},inplace=True)\n",
    "nulls = nulls[nulls.cnt_missing>0]\n",
    "nulls['pct_missing'] = round(nulls.cnt_missing/houses.shape[0] * 100,2)\n",
    "nulls.sort_values(by=\"pct_missing\",ascending=False)"
   ]
  },
  {
   "cell_type": "code",
   "execution_count": 5,
   "metadata": {},
   "outputs": [],
   "source": [
    "# Drop the row missing the electrical data\n",
    "houses = houses[houses.Electrical.isnull()==False]"
   ]
  },
  {
   "cell_type": "code",
   "execution_count": null,
   "metadata": {},
   "outputs": [],
   "source": [
    "houses.sample(10)"
   ]
  },
  {
   "cell_type": "markdown",
   "metadata": {},
   "source": [
    "## Explore Relationship between Vars and SalePrice"
   ]
  },
  {
   "cell_type": "code",
   "execution_count": null,
   "metadata": {},
   "outputs": [],
   "source": [
    "# Look at data cols 41-60\n",
    "my_cols = houses.iloc[:,41:61]\n",
    "saleprice = houses['SalePrice']"
   ]
  },
  {
   "cell_type": "code",
   "execution_count": null,
   "metadata": {
    "scrolled": false
   },
   "outputs": [],
   "source": [
    "for i in range(0,my_cols.shape[1]):\n",
    "    plt.figure(i)\n",
    "    sns.scatterplot(x = my_cols.iloc[:,i], y = saleprice)"
   ]
  },
  {
   "cell_type": "code",
   "execution_count": null,
   "metadata": {},
   "outputs": [],
   "source": [
    "# List columns with type object\n",
    "# objs = houses.select_dtypes(include=['object']).dtypes\n",
    "# objs = [re.sub(\" *object\",\"\",s) for s in objs.index]\n",
    "# objs"
   ]
  },
  {
   "cell_type": "markdown",
   "metadata": {},
   "source": [
    "## Test using method from tutorial\n",
    "\n",
    "https://towardsdatascience.com/random-forest-in-python-24d0893d51c0\n",
    "\n",
    "https://towardsdatascience.com/improving-random-forest-in-python-part-1-893916666cd\n",
    "\n",
    "### Create features (X) and labels (Y) series"
   ]
  },
  {
   "cell_type": "code",
   "execution_count": 6,
   "metadata": {},
   "outputs": [],
   "source": [
    "# FEATURES\n",
    "# Create dummy cols when necessary - for the moment drop GarageYrBlt bc it contains nulls\n",
    "features = pd.get_dummies(houses.drop('SalePrice',axis=1).drop('GarageYrBlt',axis=1).drop('Id',axis=1),\n",
    "                          drop_first=True, dummy_na=True)\n",
    "feature_list = list(features.columns) # Saving feature names for later use\n",
    "features = np.array(features)         # Convert to numpy array\n",
    "\n",
    "# LABELS (Response Variable)\n",
    "labels = houses.SalePrice"
   ]
  },
  {
   "cell_type": "markdown",
   "metadata": {},
   "source": [
    "### Create Training and Test Sets"
   ]
  },
  {
   "cell_type": "code",
   "execution_count": 7,
   "metadata": {},
   "outputs": [],
   "source": [
    "# Using Skicit-learn to split data into training and testing sets\n",
    "from sklearn.model_selection import train_test_split\n",
    "# Split the data into training and testing sets (80:20)\n",
    "train_features, test_features, train_labels, test_labels = train_test_split(features, labels, test_size = 0.2)"
   ]
  },
  {
   "cell_type": "code",
   "execution_count": 8,
   "metadata": {},
   "outputs": [
    {
     "name": "stdout",
     "output_type": "stream",
     "text": [
      "Training Features Shape: (1167, 260)\n",
      "Training Labels Shape: (1167,)\n",
      "Testing Features Shape: (292, 260)\n",
      "Testing Labels Shape: (292,)\n"
     ]
    }
   ],
   "source": [
    "# Is everything the right size so far?\n",
    "print('Training Features Shape:', train_features.shape)\n",
    "print('Training Labels Shape:', train_labels.shape)\n",
    "print('Testing Features Shape:', test_features.shape)\n",
    "print('Testing Labels Shape:', test_labels.shape)"
   ]
  },
  {
   "cell_type": "markdown",
   "metadata": {},
   "source": [
    "### Train an Initial RF Model"
   ]
  },
  {
   "cell_type": "code",
   "execution_count": 9,
   "metadata": {},
   "outputs": [
    {
     "data": {
      "text/plain": [
       "RandomForestRegressor(bootstrap=True, criterion='mse', max_depth=None,\n",
       "           max_features='auto', max_leaf_nodes=None,\n",
       "           min_impurity_decrease=0.0, min_impurity_split=None,\n",
       "           min_samples_leaf=1, min_samples_split=2,\n",
       "           min_weight_fraction_leaf=0.0, n_estimators=1000, n_jobs=1,\n",
       "           oob_score=False, random_state=None, verbose=0, warm_start=False)"
      ]
     },
     "execution_count": 9,
     "metadata": {},
     "output_type": "execute_result"
    }
   ],
   "source": [
    "# Import the model we are using\n",
    "from sklearn.ensemble import RandomForestRegressor\n",
    "\n",
    "# Instantiate model with 1000 decision trees\n",
    "rf = RandomForestRegressor(n_estimators = 1000)\n",
    "\n",
    "# Train the model on training data\n",
    "rf.fit(train_features, train_labels)"
   ]
  },
  {
   "cell_type": "code",
   "execution_count": 10,
   "metadata": {},
   "outputs": [
    {
     "name": "stdout",
     "output_type": "stream",
     "text": [
      "Mean Absolute Error: 18691.88\n"
     ]
    }
   ],
   "source": [
    "# Use the forest's predict method on the test data\n",
    "predictions = rf.predict(test_features)\n",
    "# Calculate the absolute errors\n",
    "errors = abs(predictions - test_labels)\n",
    "# Print out the mean absolute error (mae)\n",
    "print('Mean Absolute Error:', round(np.mean(errors), 2))"
   ]
  },
  {
   "cell_type": "code",
   "execution_count": 11,
   "metadata": {},
   "outputs": [
    {
     "name": "stdout",
     "output_type": "stream",
     "text": [
      "Accuracy: 88.94 %.\n"
     ]
    }
   ],
   "source": [
    "# Calculate mean absolute percentage error (MAPE)\n",
    "mape = 100 * (errors / test_labels)\n",
    "\n",
    "# Calculate and display accuracy\n",
    "accuracy = 100 - np.mean(mape)\n",
    "print('Accuracy:', round(accuracy, 2), '%.')"
   ]
  },
  {
   "cell_type": "markdown",
   "metadata": {},
   "source": [
    "### Look at Feature Importances"
   ]
  },
  {
   "cell_type": "code",
   "execution_count": 12,
   "metadata": {},
   "outputs": [
    {
     "name": "stdout",
     "output_type": "stream",
     "text": [
      "Variable: OverallQual          Importance: 0.58628\n",
      "Variable: GrLivArea            Importance: 0.11047\n",
      "Variable: TotalBsmtSF          Importance: 0.03867\n",
      "Variable: GarageCars           Importance: 0.03024\n",
      "Variable: FirstFlrSF           Importance: 0.02942\n",
      "Variable: BsmtFinSF1           Importance: 0.02274\n",
      "Variable: GarageArea           Importance: 0.01957\n",
      "Variable: LotArea              Importance: 0.01127\n",
      "Variable: SecondFlrSF          Importance: 0.01098\n",
      "Variable: TotRmsAbvGrd         Importance: 0.01061\n",
      "Variable: YearBuilt            Importance: 0.01024\n",
      "Variable: FullBath             Importance: 0.00904\n",
      "Variable: MasVnrArea           Importance: 0.00759\n",
      "Variable: YearRemodAdd         Importance: 0.00669\n",
      "Variable: BsmtQual             Importance: 0.00564\n",
      "Variable: OpenPorchSF          Importance: 0.00473\n",
      "Variable: LotFrontage          Importance: 0.00451\n",
      "Variable: OverallCond          Importance: 0.00437\n",
      "Variable: LotShape_Reg         Importance: 0.00432\n",
      "Variable: BsmtUnfSF            Importance: 0.0043\n",
      "Variable: FireplaceQu          Importance: 0.00424\n",
      "Variable: WoodDeckSF           Importance: 0.00421\n",
      "Variable: KitchenQual          Importance: 0.00406\n",
      "Variable: ExterQual            Importance: 0.0039\n",
      "Variable: MoSold               Importance: 0.0034\n",
      "Variable: GarageFinish         Importance: 0.00338\n",
      "Variable: BsmtExposure         Importance: 0.00328\n",
      "Variable: BsmtFinType1         Importance: 0.00221\n",
      "Variable: GarageType_Attchd    Importance: 0.00171\n",
      "Variable: MSSubClass           Importance: 0.00162\n",
      "Variable: Fireplaces           Importance: 0.00137\n",
      "Variable: YrSold               Importance: 0.0013\n",
      "Variable: Exterior1st_HdBoard  Importance: 0.00127\n",
      "Variable: Exterior2nd_HdBoard  Importance: 0.0011\n",
      "Variable: BedroomAbvGr         Importance: 0.00109\n",
      "Variable: ScreenPorch          Importance: 0.00105\n",
      "Variable: HalfBath             Importance: 0.00102\n",
      "Variable: Neighborhood_Crawfor Importance: 0.00089\n",
      "Variable: BsmtFullBath         Importance: 0.00083\n",
      "Variable: GarageType_Detchd    Importance: 0.00083\n",
      "Variable: GarageQual_TA        Importance: 0.00075\n",
      "Variable: CentralAir_Y         Importance: 0.00073\n",
      "Variable: Functional           Importance: 0.00071\n",
      "Variable: EnclosedPorch        Importance: 0.00071\n",
      "Variable: BsmtHalfBath         Importance: 0.00067\n",
      "Variable: RoofMatl_CompShg     Importance: 0.00065\n",
      "Variable: MSZoning_RM          Importance: 0.00063\n",
      "Variable: ExterCond            Importance: 0.0006\n",
      "Variable: RoofStyle_Gable      Importance: 0.00055\n",
      "Variable: Exterior2nd_VinylSd  Importance: 0.00054\n",
      "Variable: LotShape_IR2         Importance: 0.0005\n",
      "Variable: RoofStyle_Hip        Importance: 0.0005\n",
      "Variable: SaleCondition_Normal Importance: 0.00046\n",
      "Variable: LotConfig_CulDSac    Importance: 0.00045\n",
      "Variable: MasVnrType_Stone     Importance: 0.00045\n",
      "Variable: BsmtFinSF2           Importance: 0.00044\n",
      "Variable: LandContour_Lvl      Importance: 0.00044\n",
      "Variable: MasVnrType_BrkFace   Importance: 0.00042\n",
      "Variable: BsmtCond             Importance: 0.00038\n",
      "Variable: Alley_NA             Importance: 0.00038\n",
      "Variable: Foundation_PConc     Importance: 0.00038\n",
      "Variable: GarageType_BuiltIn   Importance: 0.00037\n",
      "Variable: Exterior1st_VinylSd  Importance: 0.00035\n",
      "Variable: MSZoning_RL          Importance: 0.00033\n",
      "Variable: LotConfig_Inside     Importance: 0.00033\n",
      "Variable: HeatingQC_TA         Importance: 0.00031\n",
      "Variable: GarageCond_TA        Importance: 0.00031\n",
      "Variable: SaleType_WD          Importance: 0.0003\n",
      "Variable: Neighborhood_Edwards Importance: 0.00029\n",
      "Variable: Neighborhood_NridgHt Importance: 0.00029\n",
      "Variable: Condition1_Norm      Importance: 0.00029\n",
      "Variable: Exterior1st_Stucco   Importance: 0.00028\n",
      "Variable: SaleCondition_Family Importance: 0.00028\n",
      "Variable: Neighborhood_CollgCr Importance: 0.00027\n",
      "Variable: Neighborhood_StoneBr Importance: 0.00027\n",
      "Variable: HouseStyle_2Story    Importance: 0.00026\n",
      "Variable: Exterior1st_BrkFace  Importance: 0.00025\n",
      "Variable: LandSlope_Mod        Importance: 0.00024\n",
      "Variable: SaleType_New         Importance: 0.00024\n",
      "Variable: Neighborhood_OldTown Importance: 0.00023\n",
      "Variable: Exterior2nd_Wd Sdng  Importance: 0.00022\n",
      "Variable: SaleCondition_Partial Importance: 0.00022\n",
      "Variable: Neighborhood_NAmes   Importance: 0.00021\n",
      "Variable: Neighborhood_NoRidge Importance: 0.00021\n",
      "Variable: Exterior2nd_Stucco   Importance: 0.00021\n",
      "Variable: Foundation_CBlock    Importance: 0.00021\n",
      "Variable: KitchenAbvGr         Importance: 0.0002\n",
      "Variable: HouseStyle_1Story    Importance: 0.0002\n",
      "Variable: MasVnrType_None      Importance: 0.0002\n",
      "Variable: Neighborhood_IDOTRR  Importance: 0.00019\n",
      "Variable: RoofMatl_WdShngl     Importance: 0.00019\n",
      "Variable: HeatingQC_Gd         Importance: 0.00019\n",
      "Variable: PavedDrive_Y         Importance: 0.00019\n",
      "Variable: Exterior1st_Wd Sdng  Importance: 0.00018\n",
      "Variable: Exterior2nd_CmentBd  Importance: 0.00018\n",
      "Variable: BsmtFinType2_Unf     Importance: 0.00018\n",
      "Variable: Fence_NA             Importance: 0.00018\n",
      "Variable: Exterior1st_CemntBd  Importance: 0.00017\n",
      "Variable: Exterior1st_Plywood  Importance: 0.00017\n",
      "Variable: LandContour_HLS      Importance: 0.00014\n",
      "Variable: Exterior2nd_MetalSd  Importance: 0.00014\n",
      "Variable: Exterior2nd_Plywood  Importance: 0.00014\n",
      "Variable: PoolQC_NA            Importance: 0.00014\n",
      "Variable: RoofStyle_Gambrel    Importance: 0.00013\n",
      "Variable: Exterior1st_MetalSd  Importance: 0.00013\n",
      "Variable: PoolArea             Importance: 0.00012\n",
      "Variable: Condition1_Feedr     Importance: 0.00012\n",
      "Variable: PoolQC_Gd            Importance: 0.00012\n",
      "Variable: LotShape_IR3         Importance: 0.00011\n",
      "Variable: LandContour_Low      Importance: 0.00011\n",
      "Variable: Neighborhood_Timber  Importance: 0.00011\n",
      "Variable: Electrical_SBrkr     Importance: 0.00011\n",
      "Variable: LowQualFinSF         Importance: 0.0001\n",
      "Variable: Alley_Pave           Importance: 0.0001\n",
      "Variable: Neighborhood_BrkSide Importance: 0.0001\n",
      "Variable: HouseStyle_SLvl      Importance: 0.0001\n",
      "Variable: Exterior2nd_Wd Shng  Importance: 0.0001\n",
      "Variable: Neighborhood_Gilbert Importance: 9e-05\n",
      "Variable: HeatingQC_Fa         Importance: 9e-05\n",
      "Variable: GarageType_CarPort   Importance: 9e-05\n",
      "Variable: Neighborhood_Mitchel Importance: 8e-05\n",
      "Variable: Neighborhood_NWAmes  Importance: 8e-05\n",
      "Variable: Neighborhood_Somerst Importance: 8e-05\n",
      "Variable: Exterior1st_BrkComm  Importance: 8e-05\n",
      "Variable: Exterior2nd_Brk Cmn  Importance: 8e-05\n",
      "Variable: Exterior2nd_BrkFace  Importance: 8e-05\n",
      "Variable: Fence_MnPrv          Importance: 8e-05\n",
      "Variable: ThirdSsnPorch        Importance: 7e-05\n",
      "Variable: Condition1_PosN      Importance: 7e-05\n",
      "Variable: BsmtFinType2_BLQ     Importance: 7e-05\n",
      "Variable: PavedDrive_P         Importance: 7e-05\n",
      "Variable: Neighborhood_ClearCr Importance: 6e-05\n",
      "Variable: BldgType_Twnhs       Importance: 6e-05\n",
      "Variable: GarageQual_Fa        Importance: 6e-05\n",
      "Variable: MSZoning_FV          Importance: 5e-05\n",
      "Variable: LotConfig_FR2        Importance: 5e-05\n",
      "Variable: LotConfig_FR3        Importance: 5e-05\n",
      "Variable: LandSlope_Sev        Importance: 5e-05\n",
      "Variable: Neighborhood_Sawyer  Importance: 5e-05\n",
      "Variable: Neighborhood_SawyerW Importance: 5e-05\n",
      "Variable: BldgType_TwnhsE      Importance: 5e-05\n",
      "Variable: BsmtFinType2_Rec     Importance: 5e-05\n",
      "Variable: Heating_GasA         Importance: 5e-05\n",
      "Variable: GarageType_NA        Importance: 5e-05\n",
      "Variable: GarageQual_NA        Importance: 5e-05\n",
      "Variable: Fence_GdWo           Importance: 5e-05\n",
      "Variable: SaleCondition_Alloca Importance: 5e-05\n",
      "Variable: MiscVal              Importance: 4e-05\n",
      "Variable: Neighborhood_SWISU   Importance: 4e-05\n",
      "Variable: Neighborhood_Veenker Importance: 4e-05\n",
      "Variable: BldgType_Duplex      Importance: 4e-05\n",
      "Variable: RoofMatl_Tar&Grv     Importance: 4e-05\n",
      "Variable: BsmtFinType2_LwQ     Importance: 4e-05\n",
      "Variable: Condition1_PosA      Importance: 3e-05\n",
      "Variable: Condition1_RRAn      Importance: 3e-05\n",
      "Variable: BsmtFinType2_GLQ     Importance: 3e-05\n",
      "Variable: Heating_GasW         Importance: 3e-05\n",
      "Variable: Electrical_FuseF     Importance: 3e-05\n",
      "Variable: GarageType_Basment   Importance: 3e-05\n",
      "Variable: GarageQual_Gd        Importance: 3e-05\n",
      "Variable: GarageCond_Fa        Importance: 3e-05\n",
      "Variable: GarageCond_NA        Importance: 3e-05\n",
      "Variable: MiscFeature_Shed     Importance: 3e-05\n",
      "Variable: MSZoning_RH          Importance: 2e-05\n",
      "Variable: Neighborhood_MeadowV Importance: 2e-05\n",
      "Variable: Neighborhood_NPkVill Importance: 2e-05\n",
      "Variable: Condition2_Norm      Importance: 2e-05\n",
      "Variable: BldgType_2fmCon      Importance: 2e-05\n",
      "Variable: HouseStyle_2.5Fin    Importance: 2e-05\n",
      "Variable: Exterior1st_WdShing  Importance: 2e-05\n",
      "Variable: MasVnrType_NA        Importance: 2e-05\n",
      "Variable: Heating_OthW         Importance: 2e-05\n",
      "Variable: MiscFeature_NA       Importance: 2e-05\n",
      "Variable: SaleType_CWD         Importance: 2e-05\n",
      "Variable: Street_Pave          Importance: 1e-05\n",
      "Variable: Condition1_RRNn      Importance: 1e-05\n",
      "Variable: HouseStyle_1.5Unf    Importance: 1e-05\n",
      "Variable: HouseStyle_2.5Unf    Importance: 1e-05\n",
      "Variable: HouseStyle_SFoyer    Importance: 1e-05\n",
      "Variable: RoofMatl_Membran     Importance: 1e-05\n",
      "Variable: RoofMatl_Metal       Importance: 1e-05\n",
      "Variable: Exterior1st_Stone    Importance: 1e-05\n",
      "Variable: Exterior2nd_AsphShn  Importance: 1e-05\n",
      "Variable: Exterior2nd_ImStucc  Importance: 1e-05\n",
      "Variable: Exterior2nd_Other    Importance: 1e-05\n",
      "Variable: Foundation_Slab      Importance: 1e-05\n",
      "Variable: BsmtFinType2_NA      Importance: 1e-05\n",
      "Variable: GarageCond_Gd        Importance: 1e-05\n",
      "Variable: SaleType_ConLD       Importance: 1e-05\n",
      "Variable: SaleType_ConLI       Importance: 1e-05\n",
      "Variable: SaleType_ConLw       Importance: 1e-05\n",
      "Variable: MSZoning_nan         Importance: 0.0\n",
      "Variable: Street_nan           Importance: 0.0\n",
      "Variable: Alley_nan            Importance: 0.0\n",
      "Variable: LotShape_nan         Importance: 0.0\n",
      "Variable: LandContour_nan      Importance: 0.0\n",
      "Variable: Utilities_NoSeWa     Importance: 0.0\n",
      "Variable: Utilities_nan        Importance: 0.0\n",
      "Variable: LotConfig_nan        Importance: 0.0\n",
      "Variable: LandSlope_nan        Importance: 0.0\n",
      "Variable: Neighborhood_Blueste Importance: 0.0\n",
      "Variable: Neighborhood_BrDale  Importance: 0.0\n",
      "Variable: Neighborhood_nan     Importance: 0.0\n",
      "Variable: Condition1_RRAe      Importance: 0.0\n",
      "Variable: Condition1_RRNe      Importance: 0.0\n",
      "Variable: Condition1_nan       Importance: 0.0\n",
      "Variable: Condition2_Feedr     Importance: 0.0\n",
      "Variable: Condition2_PosA      Importance: 0.0\n",
      "Variable: Condition2_PosN      Importance: 0.0\n",
      "Variable: Condition2_RRAe      Importance: 0.0\n",
      "Variable: Condition2_RRAn      Importance: 0.0\n",
      "Variable: Condition2_RRNn      Importance: 0.0\n",
      "Variable: Condition2_nan       Importance: 0.0\n",
      "Variable: BldgType_nan         Importance: 0.0\n",
      "Variable: HouseStyle_nan       Importance: 0.0\n",
      "Variable: RoofStyle_Mansard    Importance: 0.0\n",
      "Variable: RoofStyle_Shed       Importance: 0.0\n",
      "Variable: RoofStyle_nan        Importance: 0.0\n",
      "Variable: RoofMatl_Roll        Importance: 0.0\n",
      "Variable: RoofMatl_WdShake     Importance: 0.0\n",
      "Variable: RoofMatl_nan         Importance: 0.0\n",
      "Variable: Exterior1st_AsphShn  Importance: 0.0\n",
      "Variable: Exterior1st_CBlock   Importance: 0.0\n",
      "Variable: Exterior1st_ImStucc  Importance: 0.0\n",
      "Variable: Exterior1st_nan      Importance: 0.0\n",
      "Variable: Exterior2nd_CBlock   Importance: 0.0\n",
      "Variable: Exterior2nd_Stone    Importance: 0.0\n",
      "Variable: Exterior2nd_nan      Importance: 0.0\n",
      "Variable: MasVnrType_nan       Importance: 0.0\n",
      "Variable: Foundation_Stone     Importance: 0.0\n",
      "Variable: Foundation_Wood      Importance: 0.0\n",
      "Variable: Foundation_nan       Importance: 0.0\n",
      "Variable: BsmtFinType2_nan     Importance: 0.0\n",
      "Variable: Heating_Grav         Importance: 0.0\n",
      "Variable: Heating_Wall         Importance: 0.0\n",
      "Variable: Heating_nan          Importance: 0.0\n",
      "Variable: HeatingQC_Po         Importance: 0.0\n",
      "Variable: HeatingQC_nan        Importance: 0.0\n",
      "Variable: CentralAir_nan       Importance: 0.0\n",
      "Variable: Electrical_FuseP     Importance: 0.0\n",
      "Variable: Electrical_Mix       Importance: 0.0\n",
      "Variable: Electrical_nan       Importance: 0.0\n",
      "Variable: GarageType_nan       Importance: 0.0\n",
      "Variable: GarageQual_Po        Importance: 0.0\n",
      "Variable: GarageQual_nan       Importance: 0.0\n",
      "Variable: GarageCond_Po        Importance: 0.0\n",
      "Variable: GarageCond_nan       Importance: 0.0\n",
      "Variable: PavedDrive_nan       Importance: 0.0\n",
      "Variable: PoolQC_Fa            Importance: 0.0\n",
      "Variable: PoolQC_nan           Importance: 0.0\n",
      "Variable: Fence_MnWw           Importance: 0.0\n",
      "Variable: Fence_nan            Importance: 0.0\n",
      "Variable: MiscFeature_Othr     Importance: 0.0\n",
      "Variable: MiscFeature_TenC     Importance: 0.0\n",
      "Variable: MiscFeature_nan      Importance: 0.0\n",
      "Variable: SaleType_Con         Importance: 0.0\n",
      "Variable: SaleType_Oth         Importance: 0.0\n",
      "Variable: SaleType_nan         Importance: 0.0\n",
      "Variable: SaleCondition_AdjLand Importance: 0.0\n",
      "Variable: SaleCondition_nan    Importance: 0.0\n"
     ]
    },
    {
     "data": {
      "text/plain": [
       "[None,\n",
       " None,\n",
       " None,\n",
       " None,\n",
       " None,\n",
       " None,\n",
       " None,\n",
       " None,\n",
       " None,\n",
       " None,\n",
       " None,\n",
       " None,\n",
       " None,\n",
       " None,\n",
       " None,\n",
       " None,\n",
       " None,\n",
       " None,\n",
       " None,\n",
       " None,\n",
       " None,\n",
       " None,\n",
       " None,\n",
       " None,\n",
       " None,\n",
       " None,\n",
       " None,\n",
       " None,\n",
       " None,\n",
       " None,\n",
       " None,\n",
       " None,\n",
       " None,\n",
       " None,\n",
       " None,\n",
       " None,\n",
       " None,\n",
       " None,\n",
       " None,\n",
       " None,\n",
       " None,\n",
       " None,\n",
       " None,\n",
       " None,\n",
       " None,\n",
       " None,\n",
       " None,\n",
       " None,\n",
       " None,\n",
       " None,\n",
       " None,\n",
       " None,\n",
       " None,\n",
       " None,\n",
       " None,\n",
       " None,\n",
       " None,\n",
       " None,\n",
       " None,\n",
       " None,\n",
       " None,\n",
       " None,\n",
       " None,\n",
       " None,\n",
       " None,\n",
       " None,\n",
       " None,\n",
       " None,\n",
       " None,\n",
       " None,\n",
       " None,\n",
       " None,\n",
       " None,\n",
       " None,\n",
       " None,\n",
       " None,\n",
       " None,\n",
       " None,\n",
       " None,\n",
       " None,\n",
       " None,\n",
       " None,\n",
       " None,\n",
       " None,\n",
       " None,\n",
       " None,\n",
       " None,\n",
       " None,\n",
       " None,\n",
       " None,\n",
       " None,\n",
       " None,\n",
       " None,\n",
       " None,\n",
       " None,\n",
       " None,\n",
       " None,\n",
       " None,\n",
       " None,\n",
       " None,\n",
       " None,\n",
       " None,\n",
       " None,\n",
       " None,\n",
       " None,\n",
       " None,\n",
       " None,\n",
       " None,\n",
       " None,\n",
       " None,\n",
       " None,\n",
       " None,\n",
       " None,\n",
       " None,\n",
       " None,\n",
       " None,\n",
       " None,\n",
       " None,\n",
       " None,\n",
       " None,\n",
       " None,\n",
       " None,\n",
       " None,\n",
       " None,\n",
       " None,\n",
       " None,\n",
       " None,\n",
       " None,\n",
       " None,\n",
       " None,\n",
       " None,\n",
       " None,\n",
       " None,\n",
       " None,\n",
       " None,\n",
       " None,\n",
       " None,\n",
       " None,\n",
       " None,\n",
       " None,\n",
       " None,\n",
       " None,\n",
       " None,\n",
       " None,\n",
       " None,\n",
       " None,\n",
       " None,\n",
       " None,\n",
       " None,\n",
       " None,\n",
       " None,\n",
       " None,\n",
       " None,\n",
       " None,\n",
       " None,\n",
       " None,\n",
       " None,\n",
       " None,\n",
       " None,\n",
       " None,\n",
       " None,\n",
       " None,\n",
       " None,\n",
       " None,\n",
       " None,\n",
       " None,\n",
       " None,\n",
       " None,\n",
       " None,\n",
       " None,\n",
       " None,\n",
       " None,\n",
       " None,\n",
       " None,\n",
       " None,\n",
       " None,\n",
       " None,\n",
       " None,\n",
       " None,\n",
       " None,\n",
       " None,\n",
       " None,\n",
       " None,\n",
       " None,\n",
       " None,\n",
       " None,\n",
       " None,\n",
       " None,\n",
       " None,\n",
       " None,\n",
       " None,\n",
       " None,\n",
       " None,\n",
       " None,\n",
       " None,\n",
       " None,\n",
       " None,\n",
       " None,\n",
       " None,\n",
       " None,\n",
       " None,\n",
       " None,\n",
       " None,\n",
       " None,\n",
       " None,\n",
       " None,\n",
       " None,\n",
       " None,\n",
       " None,\n",
       " None,\n",
       " None,\n",
       " None,\n",
       " None,\n",
       " None,\n",
       " None,\n",
       " None,\n",
       " None,\n",
       " None,\n",
       " None,\n",
       " None,\n",
       " None,\n",
       " None,\n",
       " None,\n",
       " None,\n",
       " None,\n",
       " None,\n",
       " None,\n",
       " None,\n",
       " None,\n",
       " None,\n",
       " None,\n",
       " None,\n",
       " None,\n",
       " None,\n",
       " None,\n",
       " None,\n",
       " None,\n",
       " None,\n",
       " None,\n",
       " None,\n",
       " None,\n",
       " None,\n",
       " None,\n",
       " None,\n",
       " None,\n",
       " None,\n",
       " None,\n",
       " None,\n",
       " None,\n",
       " None,\n",
       " None,\n",
       " None,\n",
       " None,\n",
       " None,\n",
       " None,\n",
       " None,\n",
       " None,\n",
       " None,\n",
       " None,\n",
       " None]"
      ]
     },
     "execution_count": 12,
     "metadata": {},
     "output_type": "execute_result"
    }
   ],
   "source": [
    "# Get numerical feature importances\n",
    "importances = list(rf.feature_importances_)\n",
    "\n",
    "# List of tuples with variable and importance\n",
    "feature_importances = [(feature, round(importance, 5)) for feature, importance in zip(feature_list, importances)]\n",
    "\n",
    "# Sort the feature importances by most important first\n",
    "feature_importances = sorted(feature_importances, key = lambda x: x[1], reverse = True)\n",
    "\n",
    "# Print out the feature and importances \n",
    "[print('Variable: {:20} Importance: {}'.format(*pair)) for pair in feature_importances]"
   ]
  },
  {
   "cell_type": "code",
   "execution_count": 13,
   "metadata": {},
   "outputs": [
    {
     "name": "stdout",
     "output_type": "stream",
     "text": [
      "Mean Absolute Error: 19393.36\n",
      "Accuracy: 88.34 %\n"
     ]
    }
   ],
   "source": [
    "# New random forest with only the two most important variables\n",
    "rf_most_important = RandomForestRegressor(n_estimators= 1000)\n",
    "# Extract the most important features\n",
    "important_indices = [feature_list.index('OverallQual'), feature_list.index('GrLivArea'),\n",
    "                     feature_list.index('TotalBsmtSF'), feature_list.index('SecondFlrSF'),\n",
    "                     feature_list.index('BsmtFinSF1'), feature_list.index('FirstFlrSF'),\n",
    "                     feature_list.index('LotArea'), feature_list.index('GarageArea'),\n",
    "                     feature_list.index('YearBuilt'), feature_list.index('YearRemodAdd'),\n",
    "                     feature_list.index('GarageCars'),feature_list.index('BsmtQual'),\n",
    "                     feature_list.index('KitchenQual'),feature_list.index('FullBath'),\n",
    "                     feature_list.index('MasVnrArea'),feature_list.index('TotRmsAbvGrd'),\n",
    "                     feature_list.index('WoodDeckSF')]\n",
    "\n",
    "train_important = train_features[:, important_indices]\n",
    "test_important = test_features[:, important_indices]\n",
    "# Train the random forest\n",
    "rf_most_important.fit(train_important, train_labels)\n",
    "\n",
    "# Make predictions and determine the error\n",
    "predictions = rf_most_important.predict(test_important)\n",
    "errors = abs(predictions - test_labels)\n",
    "\n",
    "# Display the performance metrics\n",
    "print('Mean Absolute Error:', round(np.mean(errors), 2))\n",
    "mape = np.mean(100 * (errors / test_labels))\n",
    "accuracy = 100 - mape\n",
    "print('Accuracy:', round(accuracy, 2), '%')"
   ]
  },
  {
   "cell_type": "code",
   "execution_count": 14,
   "metadata": {},
   "outputs": [
    {
     "data": {
      "text/plain": [
       "Text(0.5,1,'Variable Importances')"
      ]
     },
     "execution_count": 14,
     "metadata": {},
     "output_type": "execute_result"
    },
    {
     "data": {
      "image/png": "[encoded data removed]",
      "text/plain": [
       "<Figure size 1008x432 with 1 Axes>"
      ]
     },
     "metadata": {},
     "output_type": "display_data"
    }
   ],
   "source": [
    "# Plot variable importances\n",
    "x_values = []\n",
    "y_values = []\n",
    "for i in important_indices:\n",
    "    x_values.append(feature_list[i])\n",
    "    y_values.append(importances[i])\n",
    "# Make a bar chart\n",
    "plt.figure(figsize=fs)\n",
    "plt.bar(x_values, y_values, orientation = 'vertical', color = 'r', edgecolor = 'k', linewidth = 1.2, )\n",
    "# Tick labels for x axis\n",
    "plt.xticks(x_values, x_values, rotation='vertical')\n",
    "# Axis labels and title\n",
    "plt.ylabel('Importance')\n",
    "plt.xlabel('Variable')\n",
    "plt.title('Variable Importances')"
   ]
  },
  {
   "cell_type": "markdown",
   "metadata": {},
   "source": [
    "## Cross Validation to Tune RF Parameters"
   ]
  },
  {
   "cell_type": "code",
   "execution_count": 15,
   "metadata": {},
   "outputs": [],
   "source": [
    "from sklearn import preprocessing\n",
    "from sklearn.pipeline import make_pipeline\n",
    "from sklearn.model_selection import GridSearchCV\n",
    "from sklearn.metrics import mean_squared_error, r2_score"
   ]
  },
  {
   "cell_type": "code",
   "execution_count": 16,
   "metadata": {},
   "outputs": [],
   "source": [
    "# FEATURES\n",
    "# Create dummy cols when necessary - for the moment drop GarageYrBlt bc it contains nulls\n",
    "features = pd.get_dummies(houses.drop('SalePrice',axis=1).drop('GarageYrBlt',axis=1), drop_first=True, dummy_na=True)\n",
    "feature_list = list(features.columns) # Saving feature names for later use\n",
    "# features = np.array(features)         # Convert to numpy array\n",
    "\n",
    "# LABELS (Response Variable)\n",
    "labels = houses.SalePrice\n",
    "\n",
    "train_features, test_features, train_labels, test_labels = train_test_split(features, labels, test_size = 0.2)"
   ]
  },
  {
   "cell_type": "code",
   "execution_count": 17,
   "metadata": {},
   "outputs": [],
   "source": [
    "pipeline = make_pipeline(preprocessing.StandardScaler(), \n",
    "                         RandomForestRegressor(n_estimators=100))"
   ]
  },
  {
   "cell_type": "code",
   "execution_count": 18,
   "metadata": {},
   "outputs": [],
   "source": [
    "# Declare hyperparameters to tune\n",
    "hyperparameters = { 'randomforestregressor__max_features' : ['auto', 'sqrt', 'log2'],\n",
    "                  'randomforestregressor__max_depth': [None, 5, 3, 1]}"
   ]
  },
  {
   "cell_type": "code",
   "execution_count": 19,
   "metadata": {},
   "outputs": [
    {
     "data": {
      "text/plain": [
       "GridSearchCV(cv=10, error_score='raise',\n",
       "       estimator=Pipeline(memory=None,\n",
       "     steps=[('standardscaler', StandardScaler(copy=True, with_mean=True, with_std=True)), ('randomforestregressor', RandomForestRegressor(bootstrap=True, criterion='mse', max_depth=None,\n",
       "           max_features='auto', max_leaf_nodes=None,\n",
       "           min_impurity_decr...mators=100, n_jobs=1,\n",
       "           oob_score=False, random_state=None, verbose=0, warm_start=False))]),\n",
       "       fit_params=None, iid=True, n_jobs=1,\n",
       "       param_grid={'randomforestregressor__max_features': ['auto', 'sqrt', 'log2'], 'randomforestregressor__max_depth': [None, 5, 3, 1]},\n",
       "       pre_dispatch='2*n_jobs', refit=True, return_train_score='warn',\n",
       "       scoring=None, verbose=0)"
      ]
     },
     "execution_count": 19,
     "metadata": {},
     "output_type": "execute_result"
    }
   ],
   "source": [
    "clf = GridSearchCV(pipeline, hyperparameters, cv=10)\n",
    " \n",
    "# Fit and tune model\n",
    "clf.fit(train_features, train_labels)"
   ]
  },
  {
   "cell_type": "code",
   "execution_count": 20,
   "metadata": {},
   "outputs": [
    {
     "name": "stdout",
     "output_type": "stream",
     "text": [
      "{'randomforestregressor__max_depth': None, 'randomforestregressor__max_features': 'sqrt'}\n"
     ]
    }
   ],
   "source": [
    "print(clf.best_params_)"
   ]
  },
  {
   "cell_type": "code",
   "execution_count": 21,
   "metadata": {},
   "outputs": [],
   "source": [
    "# Predict\n",
    "labels_pred = clf.predict(test_features)"
   ]
  },
  {
   "cell_type": "code",
   "execution_count": 22,
   "metadata": {},
   "outputs": [
    {
     "name": "stdout",
     "output_type": "stream",
     "text": [
      "0.8436819944461044\n",
      "1174996414.5648541\n"
     ]
    }
   ],
   "source": [
    "print(r2_score(test_labels, labels_pred))\n",
    "print(mean_squared_error(test_labels, labels_pred))"
   ]
  },
  {
   "cell_type": "code",
   "execution_count": 23,
   "metadata": {},
   "outputs": [
    {
     "name": "stdout",
     "output_type": "stream",
     "text": [
      "Mean Absolute Error: 17819.42\n",
      "Accuracy: 90.37 %\n"
     ]
    }
   ],
   "source": [
    "# Make predictions and determine the error\n",
    "errors = abs(labels_pred - test_labels)\n",
    "\n",
    "# Display the performance metrics\n",
    "print('Mean Absolute Error:', round(np.mean(errors), 2))\n",
    "mape = np.mean(100 * (errors / test_labels))\n",
    "accuracy = 100 - mape\n",
    "print('Accuracy:', round(accuracy, 2), '%')"
   ]
  },
  {
   "cell_type": "markdown",
   "metadata": {},
   "source": [
    "## Use params determined from CV to train on the entire training set\n",
    "\n",
    "### Upload and clean test data"
   ]
  },
  {
   "cell_type": "code",
   "execution_count": 24,
   "metadata": {},
   "outputs": [
    {
     "data": {
      "text/plain": [
       "(1459, 80)"
      ]
     },
     "execution_count": 24,
     "metadata": {},
     "output_type": "execute_result"
    }
   ],
   "source": [
    "# Load the test data\n",
    "houses_test = pd.read_csv(\"data/cleaned_data/clean_test.csv\")\n",
    "houses_test.shape"
   ]
  },
  {
   "cell_type": "code",
   "execution_count": 25,
   "metadata": {},
   "outputs": [
    {
     "data": {
      "text/html": [
       "<div>\n",
       "<style scoped>\n",
       "    .dataframe tbody tr th:only-of-type {\n",
       "        vertical-align: middle;\n",
       "    }\n",
       "\n",
       "    .dataframe tbody tr th {\n",
       "        vertical-align: top;\n",
       "    }\n",
       "\n",
       "    .dataframe thead th {\n",
       "        text-align: right;\n",
       "    }\n",
       "</style>\n",
       "<table border=\"1\" class=\"dataframe\">\n",
       "  <thead>\n",
       "    <tr style=\"text-align: right;\">\n",
       "      <th></th>\n",
       "      <th>cnt_missing</th>\n",
       "      <th>pct_missing</th>\n",
       "    </tr>\n",
       "  </thead>\n",
       "  <tbody>\n",
       "    <tr>\n",
       "      <th>GarageYrBlt</th>\n",
       "      <td>78</td>\n",
       "      <td>5.35</td>\n",
       "    </tr>\n",
       "  </tbody>\n",
       "</table>\n",
       "</div>"
      ],
      "text/plain": [
       "             cnt_missing  pct_missing\n",
       "GarageYrBlt           78         5.35"
      ]
     },
     "execution_count": 25,
     "metadata": {},
     "output_type": "execute_result"
    }
   ],
   "source": [
    "# Override spurious NAs\n",
    "# PoolQu\n",
    "houses_test.PoolQC.fillna(\"NA\", inplace=True)\n",
    "\n",
    "#MiscFeature\n",
    "houses_test.MiscFeature.fillna(\"NA\", inplace=True)\n",
    "\n",
    "#Alley\n",
    "houses_test.Alley.fillna(\"NA\", inplace=True)\n",
    "\n",
    "# Fence\n",
    "houses_test.Fence.fillna(\"NA\", inplace=True)\n",
    "\n",
    "# FireplaceQu\n",
    "houses_test.FireplaceQu.fillna(\"NA\", inplace=True)\n",
    "\n",
    "# Garages\n",
    "houses_test.GarageType.fillna(\"NA\",inplace=True)\n",
    "houses_test.GarageFinish.fillna(\"NA\",inplace=True)\n",
    "houses_test.GarageQual.fillna(\"NA\",inplace=True)\n",
    "houses_test.GarageCond.fillna(\"NA\",inplace=True)\n",
    "houses_test.GarageCars.fillna(0, inplace=True)\n",
    "houses_test.GarageArea.fillna(0, inplace=True)\n",
    "\n",
    "# Basements\n",
    "houses_test.BsmtExposure.fillna(\"NA\",inplace=True)\n",
    "houses_test.BsmtFinType1.fillna(\"NA\",inplace=True)\n",
    "houses_test.BsmtFinType2.fillna(\"NA\",inplace=True)\n",
    "houses_test.BsmtQual.fillna(\"NA\",inplace=True)\n",
    "houses_test.BsmtCond.fillna(\"NA\",inplace=True)\n",
    "houses_test.BsmtFullBath.fillna(0,inplace=True)\n",
    "houses_test.BsmtFinSF1.fillna(0,inplace=True)\n",
    "houses_test.BsmtFinSF2.fillna(0,inplace=True)\n",
    "houses_test.BsmtUnfSF.fillna(0,inplace=True)\n",
    "houses_test.BsmtHalfBath.fillna(0,inplace=True)\n",
    "houses_test.TotalBsmtSF.fillna(0,inplace=True)\n",
    "\n",
    "# Masonry\n",
    "houses_test.MasVnrType.fillna(\"NA\",inplace=True)\n",
    "houses_test.MasVnrArea.fillna(0,inplace=True)\n",
    "\n",
    "# KitchenQual\n",
    "houses_test.KitchenQual.fillna(\"TA\",inplace=True)\n",
    "\n",
    "# Utilities\n",
    "houses_test.Utilities.fillna(\"AllPub\",inplace=True)\n",
    "\n",
    "#Functional\n",
    "houses_test.Functional.fillna(\"Typ\",inplace=True)\n",
    "\n",
    "#Exterior Siding\n",
    "houses_test.Exterior1st.fillna(\"VinylSd\", inplace=True)\n",
    "houses_test.Exterior2nd.fillna(\"VinylSd\", inplace=True)\n",
    "\n",
    "# Zoning\n",
    "houses_test.MSZoning.fillna(\"RL\",inplace=True)\n",
    "\n",
    "# Sale Type\n",
    "houses_test.SaleType.fillna(\"WD\",inplace=True)\n",
    "\n",
    "# What % data (if any) is missing for each column?\n",
    "nulls = houses_test.isnull().sum()\n",
    "nulls = pd.DataFrame(nulls)\n",
    "nulls.rename(columns={0:\"cnt_missing\"},inplace=True)\n",
    "nulls = nulls[nulls.cnt_missing>0]\n",
    "nulls['pct_missing'] = round(nulls.cnt_missing/houses.shape[0] * 100,2)\n",
    "nulls.sort_values(by=\"pct_missing\",ascending=False)"
   ]
  },
  {
   "cell_type": "code",
   "execution_count": 26,
   "metadata": {},
   "outputs": [],
   "source": [
    "# Get frequencies for each kitchenqual type\n",
    "# kq = houses_test.KitchenQual.astype('str')\n",
    "# kq = list(map(lambda s: s.replace(\"b'\",\"\").replace(\"'\",\"\"), kq))\n",
    "# sns.countplot(kq)"
   ]
  },
  {
   "cell_type": "code",
   "execution_count": 27,
   "metadata": {},
   "outputs": [],
   "source": [
    "# Change some strings to ordinal values\n",
    "# ExterQual\n",
    "exterqual = {\"Po\" : 0, \"Fa\": 1, 'TA':2, 'Gd':3, 'Ex':4}\n",
    "houses_test.ExterQual = houses_test.ExterQual.apply(lambda v: exterqual[v])\n",
    "# ExterCond\n",
    "extercond = {\"Po\" : 0, \"Fa\": 1, 'TA':2, 'Gd':3, 'Ex':4}\n",
    "houses_test.ExterCond = houses_test.ExterCond.apply(lambda v: extercond[v])\n",
    "# BsmtQual\n",
    "basmtqual = {\"NA\":0, \"Po\" : 1, \"Fa\": 2, 'TA':3, 'Gd':4, 'Ex':5}\n",
    "houses_test.BsmtQual = houses_test.BsmtQual.apply(lambda v: basmtqual[v])\n",
    "# BsmtCond\n",
    "basmtcond = {\"NA\":0, \"Po\" : 1, \"Fa\": 2, 'TA':3, 'Gd':4, 'Ex':5}\n",
    "houses_test.BsmtCond = houses_test.BsmtCond.apply(lambda v: basmtcond[v])\n",
    "# BsmtExposure\n",
    "basmtexposure = {\"NA\" : 0, \"No\": 1, 'Mn':2, 'Av':3, 'Gd': 4}\n",
    "houses_test.BsmtExposure = houses_test.BsmtExposure.apply(lambda v: basmtexposure[v])\n",
    "# BsmtFinType_1\n",
    "bsmtfintype = {\"NA\":0, \"Unf\" : 1, \"LwQ\": 2, 'Rec':3, 'BLQ':4, 'ALQ':5, \"GLQ\": 6}\n",
    "houses_test.BsmtFinType1 = houses_test.BsmtFinType1.apply(lambda v: bsmtfintype[v])\n",
    "# KitchenQual\n",
    "kitqual = {'Fa':0,'TA':1,'Gd':2, 'Ex':3}\n",
    "houses_test.KitchenQual = houses_test.KitchenQual.apply(lambda v: kitqual[v])\n",
    "# Functional\n",
    "functional = {'Typ':7, 'Min1':6, 'Min2':5, 'Mod':4, 'Maj1':3, 'Maj2':2, 'Sev':1, 'Sal':0}\n",
    "houses_test.Functional = houses_test.Functional.apply(lambda v: functional[v])\n",
    "# FireplaceQu\n",
    "fireplacequ = {'NA':0,'Po':1,'Fa':2,'TA':3,'Gd':4,'Ex':5}\n",
    "houses_test.FireplaceQu = houses_test.FireplaceQu.apply(lambda v: fireplacequ[v])\n",
    "# GarageFinish\n",
    "garagefinish = {'NA':0,'Unf':1,'RFn':2,'Fin':3}\n",
    "houses_test.GarageFinish = houses_test.GarageFinish.apply(lambda v: garagefinish[v])"
   ]
  },
  {
   "cell_type": "code",
   "execution_count": 28,
   "metadata": {},
   "outputs": [
    {
     "data": {
      "text/plain": [
       "(1459, 80)"
      ]
     },
     "execution_count": 28,
     "metadata": {},
     "output_type": "execute_result"
    }
   ],
   "source": [
    "houses_test.shape"
   ]
  },
  {
   "cell_type": "markdown",
   "metadata": {},
   "source": [
    "### Train model on whole test set"
   ]
  },
  {
   "cell_type": "code",
   "execution_count": 34,
   "metadata": {},
   "outputs": [
    {
     "data": {
      "text/plain": [
       "RandomForestRegressor(bootstrap=True, criterion='mse', max_depth=None,\n",
       "           max_features='sqrt', max_leaf_nodes=None,\n",
       "           min_impurity_decrease=0.0, min_impurity_split=None,\n",
       "           min_samples_leaf=1, min_samples_split=2,\n",
       "           min_weight_fraction_leaf=0.0, n_estimators=1000, n_jobs=1,\n",
       "           oob_score=False, random_state=None, verbose=0, warm_start=False)"
      ]
     },
     "execution_count": 34,
     "metadata": {},
     "output_type": "execute_result"
    }
   ],
   "source": [
    "# Train with best params on entire training set\n",
    "# Instantiate model with 1000 decision trees\n",
    "rf_final = RandomForestRegressor(n_estimators = 1000, max_features='sqrt')\n",
    "\n",
    "# Train the model on training data - only vars we want to keep\n",
    "# Note we have to encode the test and training sets together and then split them back apart\n",
    "keep_train = ['Id','OverallQual','GrLivArea','TotalBsmtSF', 'SecondFlrSF','BsmtFinSF1', 'FirstFlrSF','LotArea','GarageArea',\n",
    "        'YearBuilt', 'YearRemodAdd','GarageCars','BsmtQual','KitchenQual','FullBath','MasVnrArea','TotRmsAbvGrd',\n",
    "        'WoodDeckSF']\n",
    "\n",
    "encoded = pd.get_dummies(houses[keep], drop_first=True, dummy_na=True)\n",
    "rf_final.fit(encoded, labels)"
   ]
  },
  {
   "cell_type": "code",
   "execution_count": null,
   "metadata": {},
   "outputs": [],
   "source": []
  },
  {
   "cell_type": "markdown",
   "metadata": {},
   "source": [
    "### Make predictions on the test set"
   ]
  },
  {
   "cell_type": "code",
   "execution_count": 39,
   "metadata": {},
   "outputs": [
    {
     "ename": "ValueError",
     "evalue": "Number of features of the model must match the input. Model n_features is 17 and input n_features is 261 ",
     "output_type": "error",
     "traceback": [
      "\u001b[0;31m---------------------------------------------------------------------------\u001b[0m",
      "\u001b[0;31mValueError\u001b[0m                                Traceback (most recent call last)",
      "\u001b[0;32m<ipython-input-39-471499ab79fb>\u001b[0m in \u001b[0;36m<module>\u001b[0;34m()\u001b[0m\n\u001b[1;32m      4\u001b[0m \u001b[0;34m\u001b[0m\u001b[0m\n\u001b[1;32m      5\u001b[0m \u001b[0;31m# Predictions\u001b[0m\u001b[0;34m\u001b[0m\u001b[0;34m\u001b[0m\u001b[0m\n\u001b[0;32m----> 6\u001b[0;31m \u001b[0mpred_test\u001b[0m \u001b[0;34m=\u001b[0m \u001b[0mrf_final\u001b[0m\u001b[0;34m.\u001b[0m\u001b[0mpredict\u001b[0m\u001b[0;34m(\u001b[0m\u001b[0mtest_features\u001b[0m\u001b[0;34m)\u001b[0m\u001b[0;34m\u001b[0m\u001b[0m\n\u001b[0m",
      "\u001b[0;32m/anaconda2/envs/py36/lib/python3.6/site-packages/sklearn/ensemble/forest.py\u001b[0m in \u001b[0;36mpredict\u001b[0;34m(self, X)\u001b[0m\n\u001b[1;32m    679\u001b[0m         \u001b[0mcheck_is_fitted\u001b[0m\u001b[0;34m(\u001b[0m\u001b[0mself\u001b[0m\u001b[0;34m,\u001b[0m \u001b[0;34m'estimators_'\u001b[0m\u001b[0;34m)\u001b[0m\u001b[0;34m\u001b[0m\u001b[0m\n\u001b[1;32m    680\u001b[0m         \u001b[0;31m# Check data\u001b[0m\u001b[0;34m\u001b[0m\u001b[0;34m\u001b[0m\u001b[0m\n\u001b[0;32m--> 681\u001b[0;31m         \u001b[0mX\u001b[0m \u001b[0;34m=\u001b[0m \u001b[0mself\u001b[0m\u001b[0;34m.\u001b[0m\u001b[0m_validate_X_predict\u001b[0m\u001b[0;34m(\u001b[0m\u001b[0mX\u001b[0m\u001b[0;34m)\u001b[0m\u001b[0;34m\u001b[0m\u001b[0m\n\u001b[0m\u001b[1;32m    682\u001b[0m \u001b[0;34m\u001b[0m\u001b[0m\n\u001b[1;32m    683\u001b[0m         \u001b[0;31m# Assign chunk of trees to jobs\u001b[0m\u001b[0;34m\u001b[0m\u001b[0;34m\u001b[0m\u001b[0m\n",
      "\u001b[0;32m/anaconda2/envs/py36/lib/python3.6/site-packages/sklearn/ensemble/forest.py\u001b[0m in \u001b[0;36m_validate_X_predict\u001b[0;34m(self, X)\u001b[0m\n\u001b[1;32m    355\u001b[0m                                  \"call `fit` before exploiting the model.\")\n\u001b[1;32m    356\u001b[0m \u001b[0;34m\u001b[0m\u001b[0m\n\u001b[0;32m--> 357\u001b[0;31m         \u001b[0;32mreturn\u001b[0m \u001b[0mself\u001b[0m\u001b[0;34m.\u001b[0m\u001b[0mestimators_\u001b[0m\u001b[0;34m[\u001b[0m\u001b[0;36m0\u001b[0m\u001b[0;34m]\u001b[0m\u001b[0;34m.\u001b[0m\u001b[0m_validate_X_predict\u001b[0m\u001b[0;34m(\u001b[0m\u001b[0mX\u001b[0m\u001b[0;34m,\u001b[0m \u001b[0mcheck_input\u001b[0m\u001b[0;34m=\u001b[0m\u001b[0;32mTrue\u001b[0m\u001b[0;34m)\u001b[0m\u001b[0;34m\u001b[0m\u001b[0m\n\u001b[0m\u001b[1;32m    358\u001b[0m \u001b[0;34m\u001b[0m\u001b[0m\n\u001b[1;32m    359\u001b[0m     \u001b[0;34m@\u001b[0m\u001b[0mproperty\u001b[0m\u001b[0;34m\u001b[0m\u001b[0m\n",
      "\u001b[0;32m/anaconda2/envs/py36/lib/python3.6/site-packages/sklearn/tree/tree.py\u001b[0m in \u001b[0;36m_validate_X_predict\u001b[0;34m(self, X, check_input)\u001b[0m\n\u001b[1;32m    382\u001b[0m                              \u001b[0;34m\"match the input. Model n_features is %s and \"\u001b[0m\u001b[0;34m\u001b[0m\u001b[0m\n\u001b[1;32m    383\u001b[0m                              \u001b[0;34m\"input n_features is %s \"\u001b[0m\u001b[0;34m\u001b[0m\u001b[0m\n\u001b[0;32m--> 384\u001b[0;31m                              % (self.n_features_, n_features))\n\u001b[0m\u001b[1;32m    385\u001b[0m \u001b[0;34m\u001b[0m\u001b[0m\n\u001b[1;32m    386\u001b[0m         \u001b[0;32mreturn\u001b[0m \u001b[0mX\u001b[0m\u001b[0;34m\u001b[0m\u001b[0m\n",
      "\u001b[0;31mValueError\u001b[0m: Number of features of the model must match the input. Model n_features is 17 and input n_features is 261 "
     ]
    }
   ],
   "source": [
    "# Encode test data\n",
    "keep_test = keep + ['Id']\n",
    "test_encoded = pd.get_dummies(houses_test[keep_test], drop_first=True, dummy_na=True)\n",
    "\n",
    "# Predictions\n",
    "pred_test = rf_final.predict(test_features)"
   ]
  },
  {
   "cell_type": "code",
   "execution_count": 40,
   "metadata": {},
   "outputs": [
    {
     "ename": "NameError",
     "evalue": "name 'pred_test' is not defined",
     "output_type": "error",
     "traceback": [
      "\u001b[0;31m---------------------------------------------------------------------------\u001b[0m",
      "\u001b[0;31mNameError\u001b[0m                                 Traceback (most recent call last)",
      "\u001b[0;32m<ipython-input-40-ea3170d40396>\u001b[0m in \u001b[0;36m<module>\u001b[0;34m()\u001b[0m\n\u001b[0;32m----> 1\u001b[0;31m \u001b[0mpred_test\u001b[0m\u001b[0;34m\u001b[0m\u001b[0m\n\u001b[0m",
      "\u001b[0;31mNameError\u001b[0m: name 'pred_test' is not defined"
     ]
    }
   ],
   "source": [
    "pred_test"
   ]
  },
  {
   "cell_type": "code",
   "execution_count": null,
   "metadata": {},
   "outputs": [],
   "source": [
    "opt = pd.DataFrame({\"Id\":houses_test.Id, \"SalePrice\":pred_test})"
   ]
  },
  {
   "cell_type": "code",
   "execution_count": null,
   "metadata": {},
   "outputs": [],
   "source": [
    "opt.to_csv('data/predicitons/prediction2.csv', index = False)"
   ]
  },
  {
   "cell_type": "code",
   "execution_count": null,
   "metadata": {},
   "outputs": [],
   "source": []
  }
 ],
 "metadata": {
  "kernelspec": {
   "display_name": "Python 3",
   "language": "python",
   "name": "python3"
  },
  "language_info": {
   "codemirror_mode": {
    "name": "ipython",
    "version": 3
   },
   "file_extension": ".py",
   "mimetype": "text/x-python",
   "name": "python",
   "nbconvert_exporter": "python",
   "pygments_lexer": "ipython3",
   "version": "3.6.5"
  }
 },
 "nbformat": 4,
 "nbformat_minor": 2
}
