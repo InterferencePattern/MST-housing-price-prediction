{
 "cells": [
  {
   "cell_type": "markdown",
   "metadata": {},
   "source": [
    "# Feature Engineering:\n",
    "\n",
    "Not all NAs are missing data! Some are Missing Not at Random, such as Fence Type which indicates that there's no fence!"
   ]
  },
  {
   "cell_type": "markdown",
   "metadata": {},
   "source": [
    "## Plan of attack:\n",
    "\n",
    "1. Determine the nature of each feature\n",
    "2. Encode categorical features\n",
    "3. Linearize numerical features (for linear algorithms)\n",
    "4. Impute missing data\n",
    "5. Create new features based on interactions between existing features"
   ]
  },
  {
   "cell_type": "markdown",
   "metadata": {},
   "source": [
    "# Set up environment"
   ]
  },
  {
   "cell_type": "code",
   "execution_count": 132,
   "metadata": {},
   "outputs": [],
   "source": [
    "import pandas as pd\n",
    "import numpy as np\n",
    "import seaborn as sns\n",
    "sns.set_style(\"dark\")\n",
    "import time\n",
    "import matplotlib.pyplot as plt\n",
    "plt.rcParams[\"figure.figsize\"] = (12,8)\n",
    "import pickle"
   ]
  },
  {
   "cell_type": "markdown",
   "metadata": {},
   "source": [
    "# Load dataset"
   ]
  },
  {
   "cell_type": "code",
   "execution_count": 69,
   "metadata": {},
   "outputs": [
    {
     "data": {
      "image/png": "[encoded data removed]",
      "text/plain": [
       "<Figure size 864x576 with 1 Axes>"
      ]
     },
     "metadata": {},
     "output_type": "display_data"
    }
   ],
   "source": [
    "df = pd.read_csv('data/train.csv')\n",
    "df = df.set_index('Id')\n",
    "\n",
    "p = df.SalePrice.plot(kind='hist', bins = 30)\n",
    "ptitle = plt.title('Housing Prices in Dataset')"
   ]
  },
  {
   "cell_type": "markdown",
   "metadata": {},
   "source": [
    "### Rename column names that are incompatible with Pandas (Periods and numerics)"
   ]
  },
  {
   "cell_type": "code",
   "execution_count": 70,
   "metadata": {},
   "outputs": [],
   "source": [
    "df.columns = list(map(lambda x: x.replace(\".\",\"_\").replace(\"1\",\"_1\").replace(\"2\",\"_2\").replace(\"3\",\"_3\").replace(\"___\",\"_\").replace(\"__\",\"_\"), df.columns))"
   ]
  },
  {
   "cell_type": "code",
   "execution_count": 71,
   "metadata": {},
   "outputs": [
    {
     "data": {
      "text/html": [
       "<div>\n",
       "<style scoped>\n",
       "    .dataframe tbody tr th:only-of-type {\n",
       "        vertical-align: middle;\n",
       "    }\n",
       "\n",
       "    .dataframe tbody tr th {\n",
       "        vertical-align: top;\n",
       "    }\n",
       "\n",
       "    .dataframe thead th {\n",
       "        text-align: right;\n",
       "    }\n",
       "</style>\n",
       "<table border=\"1\" class=\"dataframe\">\n",
       "  <thead>\n",
       "    <tr style=\"text-align: right;\">\n",
       "      <th></th>\n",
       "      <th>MSSubClass</th>\n",
       "      <th>MSZoning</th>\n",
       "      <th>LotFrontage</th>\n",
       "      <th>LotArea</th>\n",
       "      <th>Street</th>\n",
       "      <th>Alley</th>\n",
       "      <th>LotShape</th>\n",
       "      <th>LandContour</th>\n",
       "      <th>Utilities</th>\n",
       "      <th>LotConfig</th>\n",
       "      <th>...</th>\n",
       "      <th>PoolArea</th>\n",
       "      <th>PoolQC</th>\n",
       "      <th>Fence</th>\n",
       "      <th>MiscFeature</th>\n",
       "      <th>MiscVal</th>\n",
       "      <th>MoSold</th>\n",
       "      <th>YrSold</th>\n",
       "      <th>SaleType</th>\n",
       "      <th>SaleCondition</th>\n",
       "      <th>SalePrice</th>\n",
       "    </tr>\n",
       "    <tr>\n",
       "      <th>Id</th>\n",
       "      <th></th>\n",
       "      <th></th>\n",
       "      <th></th>\n",
       "      <th></th>\n",
       "      <th></th>\n",
       "      <th></th>\n",
       "      <th></th>\n",
       "      <th></th>\n",
       "      <th></th>\n",
       "      <th></th>\n",
       "      <th></th>\n",
       "      <th></th>\n",
       "      <th></th>\n",
       "      <th></th>\n",
       "      <th></th>\n",
       "      <th></th>\n",
       "      <th></th>\n",
       "      <th></th>\n",
       "      <th></th>\n",
       "      <th></th>\n",
       "      <th></th>\n",
       "    </tr>\n",
       "  </thead>\n",
       "  <tbody>\n",
       "    <tr>\n",
       "      <th>1</th>\n",
       "      <td>60</td>\n",
       "      <td>RL</td>\n",
       "      <td>65.0</td>\n",
       "      <td>8450</td>\n",
       "      <td>Pave</td>\n",
       "      <td>NaN</td>\n",
       "      <td>Reg</td>\n",
       "      <td>Lvl</td>\n",
       "      <td>AllPub</td>\n",
       "      <td>Inside</td>\n",
       "      <td>...</td>\n",
       "      <td>0</td>\n",
       "      <td>NaN</td>\n",
       "      <td>NaN</td>\n",
       "      <td>NaN</td>\n",
       "      <td>0</td>\n",
       "      <td>2</td>\n",
       "      <td>2008</td>\n",
       "      <td>WD</td>\n",
       "      <td>Normal</td>\n",
       "      <td>208500</td>\n",
       "    </tr>\n",
       "    <tr>\n",
       "      <th>2</th>\n",
       "      <td>20</td>\n",
       "      <td>RL</td>\n",
       "      <td>80.0</td>\n",
       "      <td>9600</td>\n",
       "      <td>Pave</td>\n",
       "      <td>NaN</td>\n",
       "      <td>Reg</td>\n",
       "      <td>Lvl</td>\n",
       "      <td>AllPub</td>\n",
       "      <td>FR2</td>\n",
       "      <td>...</td>\n",
       "      <td>0</td>\n",
       "      <td>NaN</td>\n",
       "      <td>NaN</td>\n",
       "      <td>NaN</td>\n",
       "      <td>0</td>\n",
       "      <td>5</td>\n",
       "      <td>2007</td>\n",
       "      <td>WD</td>\n",
       "      <td>Normal</td>\n",
       "      <td>181500</td>\n",
       "    </tr>\n",
       "    <tr>\n",
       "      <th>3</th>\n",
       "      <td>60</td>\n",
       "      <td>RL</td>\n",
       "      <td>68.0</td>\n",
       "      <td>11250</td>\n",
       "      <td>Pave</td>\n",
       "      <td>NaN</td>\n",
       "      <td>IR1</td>\n",
       "      <td>Lvl</td>\n",
       "      <td>AllPub</td>\n",
       "      <td>Inside</td>\n",
       "      <td>...</td>\n",
       "      <td>0</td>\n",
       "      <td>NaN</td>\n",
       "      <td>NaN</td>\n",
       "      <td>NaN</td>\n",
       "      <td>0</td>\n",
       "      <td>9</td>\n",
       "      <td>2008</td>\n",
       "      <td>WD</td>\n",
       "      <td>Normal</td>\n",
       "      <td>223500</td>\n",
       "    </tr>\n",
       "    <tr>\n",
       "      <th>4</th>\n",
       "      <td>70</td>\n",
       "      <td>RL</td>\n",
       "      <td>60.0</td>\n",
       "      <td>9550</td>\n",
       "      <td>Pave</td>\n",
       "      <td>NaN</td>\n",
       "      <td>IR1</td>\n",
       "      <td>Lvl</td>\n",
       "      <td>AllPub</td>\n",
       "      <td>Corner</td>\n",
       "      <td>...</td>\n",
       "      <td>0</td>\n",
       "      <td>NaN</td>\n",
       "      <td>NaN</td>\n",
       "      <td>NaN</td>\n",
       "      <td>0</td>\n",
       "      <td>2</td>\n",
       "      <td>2006</td>\n",
       "      <td>WD</td>\n",
       "      <td>Abnorml</td>\n",
       "      <td>140000</td>\n",
       "    </tr>\n",
       "    <tr>\n",
       "      <th>5</th>\n",
       "      <td>60</td>\n",
       "      <td>RL</td>\n",
       "      <td>84.0</td>\n",
       "      <td>14260</td>\n",
       "      <td>Pave</td>\n",
       "      <td>NaN</td>\n",
       "      <td>IR1</td>\n",
       "      <td>Lvl</td>\n",
       "      <td>AllPub</td>\n",
       "      <td>FR2</td>\n",
       "      <td>...</td>\n",
       "      <td>0</td>\n",
       "      <td>NaN</td>\n",
       "      <td>NaN</td>\n",
       "      <td>NaN</td>\n",
       "      <td>0</td>\n",
       "      <td>12</td>\n",
       "      <td>2008</td>\n",
       "      <td>WD</td>\n",
       "      <td>Normal</td>\n",
       "      <td>250000</td>\n",
       "    </tr>\n",
       "    <tr>\n",
       "      <th>6</th>\n",
       "      <td>50</td>\n",
       "      <td>RL</td>\n",
       "      <td>85.0</td>\n",
       "      <td>14115</td>\n",
       "      <td>Pave</td>\n",
       "      <td>NaN</td>\n",
       "      <td>IR1</td>\n",
       "      <td>Lvl</td>\n",
       "      <td>AllPub</td>\n",
       "      <td>Inside</td>\n",
       "      <td>...</td>\n",
       "      <td>0</td>\n",
       "      <td>NaN</td>\n",
       "      <td>MnPrv</td>\n",
       "      <td>Shed</td>\n",
       "      <td>700</td>\n",
       "      <td>10</td>\n",
       "      <td>2009</td>\n",
       "      <td>WD</td>\n",
       "      <td>Normal</td>\n",
       "      <td>143000</td>\n",
       "    </tr>\n",
       "    <tr>\n",
       "      <th>7</th>\n",
       "      <td>20</td>\n",
       "      <td>RL</td>\n",
       "      <td>75.0</td>\n",
       "      <td>10084</td>\n",
       "      <td>Pave</td>\n",
       "      <td>NaN</td>\n",
       "      <td>Reg</td>\n",
       "      <td>Lvl</td>\n",
       "      <td>AllPub</td>\n",
       "      <td>Inside</td>\n",
       "      <td>...</td>\n",
       "      <td>0</td>\n",
       "      <td>NaN</td>\n",
       "      <td>NaN</td>\n",
       "      <td>NaN</td>\n",
       "      <td>0</td>\n",
       "      <td>8</td>\n",
       "      <td>2007</td>\n",
       "      <td>WD</td>\n",
       "      <td>Normal</td>\n",
       "      <td>307000</td>\n",
       "    </tr>\n",
       "    <tr>\n",
       "      <th>8</th>\n",
       "      <td>60</td>\n",
       "      <td>RL</td>\n",
       "      <td>NaN</td>\n",
       "      <td>10382</td>\n",
       "      <td>Pave</td>\n",
       "      <td>NaN</td>\n",
       "      <td>IR1</td>\n",
       "      <td>Lvl</td>\n",
       "      <td>AllPub</td>\n",
       "      <td>Corner</td>\n",
       "      <td>...</td>\n",
       "      <td>0</td>\n",
       "      <td>NaN</td>\n",
       "      <td>NaN</td>\n",
       "      <td>Shed</td>\n",
       "      <td>350</td>\n",
       "      <td>11</td>\n",
       "      <td>2009</td>\n",
       "      <td>WD</td>\n",
       "      <td>Normal</td>\n",
       "      <td>200000</td>\n",
       "    </tr>\n",
       "    <tr>\n",
       "      <th>9</th>\n",
       "      <td>50</td>\n",
       "      <td>RM</td>\n",
       "      <td>51.0</td>\n",
       "      <td>6120</td>\n",
       "      <td>Pave</td>\n",
       "      <td>NaN</td>\n",
       "      <td>Reg</td>\n",
       "      <td>Lvl</td>\n",
       "      <td>AllPub</td>\n",
       "      <td>Inside</td>\n",
       "      <td>...</td>\n",
       "      <td>0</td>\n",
       "      <td>NaN</td>\n",
       "      <td>NaN</td>\n",
       "      <td>NaN</td>\n",
       "      <td>0</td>\n",
       "      <td>4</td>\n",
       "      <td>2008</td>\n",
       "      <td>WD</td>\n",
       "      <td>Abnorml</td>\n",
       "      <td>129900</td>\n",
       "    </tr>\n",
       "    <tr>\n",
       "      <th>10</th>\n",
       "      <td>190</td>\n",
       "      <td>RL</td>\n",
       "      <td>50.0</td>\n",
       "      <td>7420</td>\n",
       "      <td>Pave</td>\n",
       "      <td>NaN</td>\n",
       "      <td>Reg</td>\n",
       "      <td>Lvl</td>\n",
       "      <td>AllPub</td>\n",
       "      <td>Corner</td>\n",
       "      <td>...</td>\n",
       "      <td>0</td>\n",
       "      <td>NaN</td>\n",
       "      <td>NaN</td>\n",
       "      <td>NaN</td>\n",
       "      <td>0</td>\n",
       "      <td>1</td>\n",
       "      <td>2008</td>\n",
       "      <td>WD</td>\n",
       "      <td>Normal</td>\n",
       "      <td>118000</td>\n",
       "    </tr>\n",
       "  </tbody>\n",
       "</table>\n",
       "<p>10 rows × 80 columns</p>\n",
       "</div>"
      ],
      "text/plain": [
       "    MSSubClass MSZoning  LotFrontage  LotArea Street Alley LotShape  \\\n",
       "Id                                                                    \n",
       "1           60       RL         65.0     8450   Pave   NaN      Reg   \n",
       "2           20       RL         80.0     9600   Pave   NaN      Reg   \n",
       "3           60       RL         68.0    11250   Pave   NaN      IR1   \n",
       "4           70       RL         60.0     9550   Pave   NaN      IR1   \n",
       "5           60       RL         84.0    14260   Pave   NaN      IR1   \n",
       "6           50       RL         85.0    14115   Pave   NaN      IR1   \n",
       "7           20       RL         75.0    10084   Pave   NaN      Reg   \n",
       "8           60       RL          NaN    10382   Pave   NaN      IR1   \n",
       "9           50       RM         51.0     6120   Pave   NaN      Reg   \n",
       "10         190       RL         50.0     7420   Pave   NaN      Reg   \n",
       "\n",
       "   LandContour Utilities LotConfig    ...     PoolArea PoolQC  Fence  \\\n",
       "Id                                    ...                              \n",
       "1          Lvl    AllPub    Inside    ...            0    NaN    NaN   \n",
       "2          Lvl    AllPub       FR2    ...            0    NaN    NaN   \n",
       "3          Lvl    AllPub    Inside    ...            0    NaN    NaN   \n",
       "4          Lvl    AllPub    Corner    ...            0    NaN    NaN   \n",
       "5          Lvl    AllPub       FR2    ...            0    NaN    NaN   \n",
       "6          Lvl    AllPub    Inside    ...            0    NaN  MnPrv   \n",
       "7          Lvl    AllPub    Inside    ...            0    NaN    NaN   \n",
       "8          Lvl    AllPub    Corner    ...            0    NaN    NaN   \n",
       "9          Lvl    AllPub    Inside    ...            0    NaN    NaN   \n",
       "10         Lvl    AllPub    Corner    ...            0    NaN    NaN   \n",
       "\n",
       "   MiscFeature MiscVal MoSold  YrSold  SaleType  SaleCondition  SalePrice  \n",
       "Id                                                                         \n",
       "1          NaN       0      2    2008        WD         Normal     208500  \n",
       "2          NaN       0      5    2007        WD         Normal     181500  \n",
       "3          NaN       0      9    2008        WD         Normal     223500  \n",
       "4          NaN       0      2    2006        WD        Abnorml     140000  \n",
       "5          NaN       0     12    2008        WD         Normal     250000  \n",
       "6         Shed     700     10    2009        WD         Normal     143000  \n",
       "7          NaN       0      8    2007        WD         Normal     307000  \n",
       "8         Shed     350     11    2009        WD         Normal     200000  \n",
       "9          NaN       0      4    2008        WD        Abnorml     129900  \n",
       "10         NaN       0      1    2008        WD         Normal     118000  \n",
       "\n",
       "[10 rows x 80 columns]"
      ]
     },
     "execution_count": 71,
     "metadata": {},
     "output_type": "execute_result"
    }
   ],
   "source": [
    "df.head(10)"
   ]
  },
  {
   "cell_type": "markdown",
   "metadata": {},
   "source": [
    "# 1. Determine the nature of each feature"
   ]
  },
  {
   "cell_type": "code",
   "execution_count": 72,
   "metadata": {},
   "outputs": [],
   "source": [
    "# All features of type \"object\" are likely categorical\n",
    "objectCols = df.select_dtypes(include=['object']).columns"
   ]
  },
  {
   "cell_type": "code",
   "execution_count": 73,
   "metadata": {},
   "outputs": [],
   "source": [
    "# All features of type \"float\" are likely numeric, but years can be converted to integer\n",
    "floatCols = df.select_dtypes(include=['float']).columns"
   ]
  },
  {
   "cell_type": "code",
   "execution_count": 74,
   "metadata": {},
   "outputs": [],
   "source": [
    "# All features of type \"int\" are mixed: some need to be converted to categorical and some are ordinalprint\n",
    "intCols = df.select_dtypes(include=['int']).columns"
   ]
  },
  {
   "cell_type": "code",
   "execution_count": 75,
   "metadata": {},
   "outputs": [],
   "source": [
    "boolCols = df.select_dtypes(include=['bool']).columns"
   ]
  },
  {
   "cell_type": "code",
   "execution_count": 76,
   "metadata": {},
   "outputs": [
    {
     "data": {
      "text/plain": [
       "80"
      ]
     },
     "execution_count": 76,
     "metadata": {},
     "output_type": "execute_result"
    }
   ],
   "source": [
    "# Am I missing any from the above lists? These should add up to 80\n",
    "len(objectCols) + len(floatCols) + len(intCols) + len(boolCols)"
   ]
  },
  {
   "cell_type": "code",
   "execution_count": 77,
   "metadata": {},
   "outputs": [],
   "source": [
    "# HouseStyle may be ordinal or can be converted to an integer of floors \n",
    "# If YearRemodAdd != YearBuild, that could be a new category\n",
    "# Another is whether or not Exterior_1st == Exterior_2nd \n",
    "# MasVnrType has some NaN that might be reasonably considered \"None\", especially if its MasVnrArea == 0 \n",
    "# Any square footages should be combined with quality of that object"
   ]
  },
  {
   "cell_type": "code",
   "execution_count": 133,
   "metadata": {},
   "outputs": [
    {
     "data": {
      "text/plain": [
       "MSSubClass      object\n",
       "MSZoning        object\n",
       "LotFrontage    float64\n",
       "LotArea        float64\n",
       "Street          object\n",
       "dtype: object"
      ]
     },
     "execution_count": 133,
     "metadata": {},
     "output_type": "execute_result"
    }
   ],
   "source": [
    "df.dtypes[0:5]"
   ]
  },
  {
   "cell_type": "markdown",
   "metadata": {},
   "source": [
    "## Automated dictionary creation for type of variable:"
   ]
  },
  {
   "cell_type": "code",
   "execution_count": 79,
   "metadata": {},
   "outputs": [],
   "source": [
    "# featureTypes = [df.columns, df.dtypes]\n",
    "# typeConvertDict = {}\n",
    "# for feature in featureTypes:\n",
    "#     print(feature[0])\n",
    "#     sns.catplot(data = df, x = feature[0], kind='count')\n",
    "#     plt.show()\n",
    "#     #df[feature[0]].value_counts(dropna = False).plot( kind = 'bar')\n",
    "#     currentSuggestion = str(input(prompt = \"Ordinal, Categorical, Float, Integer, or Boolean?\"))\n",
    "#     typeConvertDict[feature[0]] = currentSuggestion\n",
    "\n",
    "# import pickle\n",
    "\n",
    "# f = open(\"typeConvertDict.pkl\",\"wb\")\n",
    "# pickle.dump(typeConvertDict,f)\n",
    "# f.close()"
   ]
  },
  {
   "cell_type": "markdown",
   "metadata": {},
   "source": [
    "### Just load the feature types determined earlier"
   ]
  },
  {
   "cell_type": "code",
   "execution_count": 151,
   "metadata": {},
   "outputs": [],
   "source": [
    "with open('typeConvertDict.pkl', 'rb') as handle:\n",
    "    typeConvertDict = pickle.load(handle)\n",
    "    \n",
    "# f = open(\"typeConvertDict.pkl\",\"wb\")\n",
    "# pickle.dump(typeConvertDict,f)\n",
    "# f.close()\n",
    "\n",
    "# typeConvertDict"
   ]
  },
  {
   "cell_type": "markdown",
   "metadata": {},
   "source": [
    "## Ensure that the features' data types reflect what they contain (categories as strings, etc)"
   ]
  },
  {
   "cell_type": "code",
   "execution_count": 152,
   "metadata": {},
   "outputs": [],
   "source": [
    "catList = [k for k,v in typeConvertDict.items() if v==\"Categorical\" or v==\"Boolean\"]\n",
    "df[catList] = df[catList].astype(str)\n",
    "\n",
    "ordList = [k for k,v in typeConvertDict.items() if v==\"Ordinal\"]\n",
    "df[ordList] = df[ordList].astype(str)\n",
    "\n",
    "floatList = [k for k,v in typeConvertDict.items() if v==\"Float\"]\n",
    "df[floatList] = df[floatList].astype(float)\n",
    "\n",
    "intList = [k for k,v in typeConvertDict.items() if  v==\"Integer\"]\n",
    "df[intList] = df[intList].fillna(0).astype(int)"
   ]
  },
  {
   "cell_type": "markdown",
   "metadata": {},
   "source": [
    "# 2a. Encoding categorical features"
   ]
  },
  {
   "cell_type": "code",
   "execution_count": 153,
   "metadata": {},
   "outputs": [
    {
     "name": "stdout",
     "output_type": "stream",
     "text": [
      "The number of categorical features is 26 before encoding\n",
      "The number of categorical features is 177 after encoding\n",
      "This is unacceptible if we only have 2000 observations\n"
     ]
    }
   ],
   "source": [
    "# Isolate categorical variables\n",
    "print(\"The number of categorical features is \" + str(len(catList)) + \" before encoding\")\n",
    "\n",
    "# Apply One Hot Encoding to all categorical variables and check how many additional columns it makes\n",
    "cat_df = pd.get_dummies(df[catList], drop_first=True)\n",
    "\n",
    "print(\"The number of categorical features is \" + str(cat_df.shape[1]) + \" after encoding\")\n",
    "\n",
    "cat_df.head()\n",
    "\n",
    "print(\"This is unacceptible if we only have 2000 observations\")\n",
    "\n",
    "# Must drop Utilities because test set doesn't match training set"
   ]
  },
  {
   "cell_type": "markdown",
   "metadata": {},
   "source": [
    "# 2b. Encoding ordinal features"
   ]
  },
  {
   "cell_type": "code",
   "execution_count": 162,
   "metadata": {
    "scrolled": false
   },
   "outputs": [
    {
     "name": "stdout",
     "output_type": "stream",
     "text": [
      "The number of ordinal features is 21 before encoding\n",
      "['LotShape', 'Utilities', 'LandSlope', 'OverallQual', 'OverallCond', 'ExterQual', 'ExterCond', 'BsmtQual', 'BsmtCond', 'BsmtExposure', 'BsmtFinType_1', 'BsmtFinType_2', 'HeatingQC', 'KitchenQual', 'Functional', 'FireplaceQu', 'GarageFinish', 'GarageQual', 'GarageCond', 'PavedDrive', 'PoolQC']\n"
     ]
    },
    {
     "data": {
      "text/html": [
       "<div>\n",
       "<style scoped>\n",
       "    .dataframe tbody tr th:only-of-type {\n",
       "        vertical-align: middle;\n",
       "    }\n",
       "\n",
       "    .dataframe tbody tr th {\n",
       "        vertical-align: top;\n",
       "    }\n",
       "\n",
       "    .dataframe thead th {\n",
       "        text-align: right;\n",
       "    }\n",
       "</style>\n",
       "<table border=\"1\" class=\"dataframe\">\n",
       "  <thead>\n",
       "    <tr style=\"text-align: right;\">\n",
       "      <th></th>\n",
       "      <th>LotShape</th>\n",
       "      <th>Utilities</th>\n",
       "      <th>LandSlope</th>\n",
       "      <th>OverallQual</th>\n",
       "      <th>OverallCond</th>\n",
       "      <th>ExterQual</th>\n",
       "      <th>ExterCond</th>\n",
       "      <th>BsmtQual</th>\n",
       "      <th>BsmtCond</th>\n",
       "      <th>BsmtExposure</th>\n",
       "      <th>...</th>\n",
       "      <th>BsmtFinType_2</th>\n",
       "      <th>HeatingQC</th>\n",
       "      <th>KitchenQual</th>\n",
       "      <th>Functional</th>\n",
       "      <th>FireplaceQu</th>\n",
       "      <th>GarageFinish</th>\n",
       "      <th>GarageQual</th>\n",
       "      <th>GarageCond</th>\n",
       "      <th>PavedDrive</th>\n",
       "      <th>PoolQC</th>\n",
       "    </tr>\n",
       "    <tr>\n",
       "      <th>Id</th>\n",
       "      <th></th>\n",
       "      <th></th>\n",
       "      <th></th>\n",
       "      <th></th>\n",
       "      <th></th>\n",
       "      <th></th>\n",
       "      <th></th>\n",
       "      <th></th>\n",
       "      <th></th>\n",
       "      <th></th>\n",
       "      <th></th>\n",
       "      <th></th>\n",
       "      <th></th>\n",
       "      <th></th>\n",
       "      <th></th>\n",
       "      <th></th>\n",
       "      <th></th>\n",
       "      <th></th>\n",
       "      <th></th>\n",
       "      <th></th>\n",
       "      <th></th>\n",
       "    </tr>\n",
       "  </thead>\n",
       "  <tbody>\n",
       "    <tr>\n",
       "      <th>1</th>\n",
       "      <td>0</td>\n",
       "      <td>3</td>\n",
       "      <td>0</td>\n",
       "      <td>49.0</td>\n",
       "      <td>5.0</td>\n",
       "      <td>3</td>\n",
       "      <td>2</td>\n",
       "      <td>3</td>\n",
       "      <td>2</td>\n",
       "      <td>1</td>\n",
       "      <td>...</td>\n",
       "      <td>1</td>\n",
       "      <td>16</td>\n",
       "      <td>9</td>\n",
       "      <td>Typ</td>\n",
       "      <td>0</td>\n",
       "      <td>2</td>\n",
       "      <td>3</td>\n",
       "      <td>3</td>\n",
       "      <td>2</td>\n",
       "      <td>0</td>\n",
       "    </tr>\n",
       "    <tr>\n",
       "      <th>2</th>\n",
       "      <td>0</td>\n",
       "      <td>3</td>\n",
       "      <td>0</td>\n",
       "      <td>36.0</td>\n",
       "      <td>8.0</td>\n",
       "      <td>2</td>\n",
       "      <td>2</td>\n",
       "      <td>3</td>\n",
       "      <td>2</td>\n",
       "      <td>4</td>\n",
       "      <td>...</td>\n",
       "      <td>1</td>\n",
       "      <td>16</td>\n",
       "      <td>4</td>\n",
       "      <td>Typ</td>\n",
       "      <td>3</td>\n",
       "      <td>2</td>\n",
       "      <td>3</td>\n",
       "      <td>3</td>\n",
       "      <td>2</td>\n",
       "      <td>0</td>\n",
       "    </tr>\n",
       "    <tr>\n",
       "      <th>3</th>\n",
       "      <td>1</td>\n",
       "      <td>3</td>\n",
       "      <td>0</td>\n",
       "      <td>49.0</td>\n",
       "      <td>5.0</td>\n",
       "      <td>3</td>\n",
       "      <td>2</td>\n",
       "      <td>3</td>\n",
       "      <td>2</td>\n",
       "      <td>2</td>\n",
       "      <td>...</td>\n",
       "      <td>1</td>\n",
       "      <td>16</td>\n",
       "      <td>9</td>\n",
       "      <td>Typ</td>\n",
       "      <td>3</td>\n",
       "      <td>2</td>\n",
       "      <td>3</td>\n",
       "      <td>3</td>\n",
       "      <td>2</td>\n",
       "      <td>0</td>\n",
       "    </tr>\n",
       "    <tr>\n",
       "      <th>4</th>\n",
       "      <td>1</td>\n",
       "      <td>3</td>\n",
       "      <td>0</td>\n",
       "      <td>49.0</td>\n",
       "      <td>5.0</td>\n",
       "      <td>2</td>\n",
       "      <td>2</td>\n",
       "      <td>2</td>\n",
       "      <td>3</td>\n",
       "      <td>1</td>\n",
       "      <td>...</td>\n",
       "      <td>1</td>\n",
       "      <td>9</td>\n",
       "      <td>9</td>\n",
       "      <td>Typ</td>\n",
       "      <td>4</td>\n",
       "      <td>1</td>\n",
       "      <td>3</td>\n",
       "      <td>3</td>\n",
       "      <td>2</td>\n",
       "      <td>0</td>\n",
       "    </tr>\n",
       "    <tr>\n",
       "      <th>5</th>\n",
       "      <td>1</td>\n",
       "      <td>3</td>\n",
       "      <td>0</td>\n",
       "      <td>64.0</td>\n",
       "      <td>5.0</td>\n",
       "      <td>3</td>\n",
       "      <td>2</td>\n",
       "      <td>3</td>\n",
       "      <td>2</td>\n",
       "      <td>3</td>\n",
       "      <td>...</td>\n",
       "      <td>1</td>\n",
       "      <td>16</td>\n",
       "      <td>9</td>\n",
       "      <td>Typ</td>\n",
       "      <td>3</td>\n",
       "      <td>2</td>\n",
       "      <td>3</td>\n",
       "      <td>3</td>\n",
       "      <td>2</td>\n",
       "      <td>0</td>\n",
       "    </tr>\n",
       "  </tbody>\n",
       "</table>\n",
       "<p>5 rows × 21 columns</p>\n",
       "</div>"
      ],
      "text/plain": [
       "    LotShape  Utilities  LandSlope  OverallQual  OverallCond  ExterQual  \\\n",
       "Id                                                                        \n",
       "1          0          3          0         49.0          5.0          3   \n",
       "2          0          3          0         36.0          8.0          2   \n",
       "3          1          3          0         49.0          5.0          3   \n",
       "4          1          3          0         49.0          5.0          2   \n",
       "5          1          3          0         64.0          5.0          3   \n",
       "\n",
       "    ExterCond BsmtQual BsmtCond  BsmtExposure   ...   BsmtFinType_2 HeatingQC  \\\n",
       "Id                                              ...                             \n",
       "1           2        3        2             1   ...               1        16   \n",
       "2           2        3        2             4   ...               1        16   \n",
       "3           2        3        2             2   ...               1        16   \n",
       "4           2        2        3             1   ...               1         9   \n",
       "5           2        3        2             3   ...               1        16   \n",
       "\n",
       "    KitchenQual  Functional FireplaceQu  GarageFinish GarageQual  GarageCond  \\\n",
       "Id                                                                             \n",
       "1             9         Typ           0             2          3           3   \n",
       "2             4         Typ           3             2          3           3   \n",
       "3             9         Typ           3             2          3           3   \n",
       "4             9         Typ           4             1          3           3   \n",
       "5             9         Typ           3             2          3           3   \n",
       "\n",
       "    PavedDrive  PoolQC  \n",
       "Id                      \n",
       "1            2       0  \n",
       "2            2       0  \n",
       "3            2       0  \n",
       "4            2       0  \n",
       "5            2       0  \n",
       "\n",
       "[5 rows x 21 columns]"
      ]
     },
     "execution_count": 162,
     "metadata": {},
     "output_type": "execute_result"
    },
    {
     "data": {
      "image/png": "[encoded data removed]",
      "text/plain": [
       "<Figure size 864x576 with 1 Axes>"
      ]
     },
     "metadata": {},
     "output_type": "display_data"
    }
   ],
   "source": [
    "print(\"The number of ordinal features is \" + str(len(ordList)) + \" before encoding\")\n",
    "\n",
    "ord_df = df[ordList].copy()\n",
    "\n",
    "# Lot shape to ordered integers:\n",
    "preserved_mapper_LotShape = {\"Reg\" : 0, \"IR1\": 1, 'IR2':2, 'IR3':3}\n",
    "ord_df['LotShape'] = ord_df.LotShape.replace(preserved_mapper_LotShape)\n",
    "\n",
    "# Number of utilities as ordered integers:\n",
    "preserved_mapper_Utilities = {\"AllPub\":3, \"NoSewr\":2, \"NoSeWa\":1, \"ELO\":0}\n",
    "ord_df['Utilities'] = ord_df.Utilities.replace(preserved_mapper_Utilities)\n",
    "\n",
    "# Land Slope as \n",
    "preserved_mapper_LandSlope = {\"Gtl\" : 0, \"Mod\": 1, 'Sev':2}\n",
    "ord_df['LandSlope'] = ord_df.LandSlope.replace(preserved_mapper_LandSlope)\n",
    "\n",
    "# Overall quality as float, but taken squared for linearity\n",
    "ord_df['OverallQual'] = ord_df.OverallQual.astype(float).apply(np.square)\n",
    "\n",
    "# Overall condition seems like a nonlinear indicator with a huge range of values at 5! CONSIDER DROPPING IT\n",
    "ord_df['OverallCond'] = ord_df.OverallCond.astype(float)\n",
    "\n",
    "# External quality as float, but taken squared for linearity\n",
    "preserved_mapper_ExterQual = {\"Po\" : 0, \"Fa\": 1, 'TA':2, 'Gd':3, 'Ex':4}\n",
    "ord_df['ExterQual'] = ord_df.ExterQual.replace(preserved_mapper_ExterQual)\n",
    "\n",
    "# External condition seems like a nonlinear indicator with a huge range of values at 5! CONSIDER DROPPING IT\n",
    "preserved_mapper_ExterCond = {\"Po\" : 0, \"Fa\": 1, 'TA':2, 'Gd':3, 'Ex':4}\n",
    "ord_df['ExterCond'] = ord_df.ExterCond.replace(preserved_mapper_ExterCond)\n",
    "\n",
    "# Basement quality is an integer since it's nearly linear\n",
    "preserved_mapper_BsmtQual = {\"Po\" : 0, \"Fa\": 1, 'TA':2, 'Gd':3, 'Ex':4}\n",
    "ord_df['BsmtQual'] = ord_df.BsmtQual.replace(preserved_mapper_BsmtQual)\n",
    "\n",
    "# Basement condition seems like a nonlinear indicator with a huge range of values at 5! CONSIDER ONE HOT\n",
    "preserved_mapper_BsmtCond = {\"Po\" : 0, \"Fa\": 1, 'TA':2, 'Gd':3, 'Ex':4}\n",
    "ord_df['BsmtCond'] = ord_df.BsmtCond.replace(preserved_mapper_BsmtCond)\n",
    "\n",
    "# Basement exposure is an integer since it's basically linear\n",
    "preserved_mapper_BsmtExposure = {\"nan\" : 0, \"No\": 1, 'Mn':2, 'Av':3, 'Gd': 4}\n",
    "ord_df['BsmtExposure'] = ord_df.BsmtExposure.replace(preserved_mapper_BsmtExposure)\n",
    "\n",
    "# Heating QC is converted to an ordered list and squared for linearity\n",
    "preserved_mapper_HeatingQC = {\"Po\" : 0, \"Fa\": 1, 'TA':2, 'Gd':3, 'Ex':4}\n",
    "ord_df['HeatingQC'] = ord_df.HeatingQC.replace(preserved_mapper_HeatingQC).apply(np.square)\n",
    "\n",
    "# Kitchen quality is converted to an ordered list and squared for linearity\n",
    "preserved_mapper_KitchenQual = {\"Po\" : 0, \"Fa\": 1, 'TA':2, 'Gd':3, 'Ex':4}\n",
    "ord_df['KitchenQual'] = ord_df.KitchenQual.replace(preserved_mapper_KitchenQual).apply(np.square)\n",
    "\n",
    "# Fireplace quality isn't well represented as linear. CONSIDER ONE HOT\n",
    "preserved_mapper_FireplaceQu = {\"nan\":0, \"Po\" : 1, \"Fa\": 2, 'TA':3, 'Gd':4, 'Ex':5}\n",
    "ord_df['FireplaceQu'] = ord_df.FireplaceQu.replace(preserved_mapper_FireplaceQu)\n",
    "\n",
    "# Functionality is a weird one, not sure what to do with it.  CONSIDER MAKING SUB-GROUPS?\n",
    "\n",
    "# GarageQual is nonlinear and not correctable. CONSIDER ONE HOT\n",
    "preserved_mapper_GarageQual = {\"nan\": 0, \"Po\" : 1, \"Fa\": 2, 'TA':3, 'Gd':4, 'Ex':5}\n",
    "ord_df['GarageQual'] = ord_df.GarageQual.replace(preserved_mapper_GarageQual)\n",
    "\n",
    "# GarageCond CONSIDER ONE HOT\n",
    "preserved_mapper_GarageCond = {\"nan\": 0, \"Po\" : 1, \"Fa\": 2, 'TA':3, 'Gd':4, 'Ex':5}\n",
    "ord_df['GarageCond'] = ord_df.GarageCond.replace(preserved_mapper_GarageCond)\n",
    "\n",
    "# PoolQC is extremely nonlinear. CONSIDER ONE HOT\n",
    "preserved_mapper_PoolQC = {\"nan\":0, \"Po\" : 1, \"Fa\": 2, 'TA':3, 'Gd':4, 'Ex':5}\n",
    "ord_df['PoolQC'] = ord_df.PoolQC.replace(preserved_mapper_PoolQC)\n",
    "\n",
    "# BsmtFinType_1\n",
    "preserved_mapper_BsmtFinType_1 = {\"NA\":0, \"Unf\" : 1, \"LwQ\": 2, 'Rec':3, 'BLQ':4, 'ALQ':5, \"GLQ\": 6}\n",
    "ord_df['BsmtFinType_1'] = ord_df.BsmtFinType_1.replace(preserved_mapper_BsmtFinType_1)\n",
    "\n",
    "# BsmtFinType_1\n",
    "preserved_mapper_BsmtFinType_2 = {\"NA\":0, \"Unf\" : 1, \"LwQ\": 2, 'Rec':3, 'BLQ':4, 'ALQ':5, \"GLQ\": 6}\n",
    "ord_df['BsmtFinType_2'] = ord_df.BsmtFinType_2.replace(preserved_mapper_BsmtFinType_2)\n",
    "\n",
    "# GarageFinish\n",
    "preserved_mapper_GarageFinish = {\"NA\":0, \"Unf\" : 1, \"RFn\": 2, 'Fin':3}\n",
    "ord_df['GarageFinish'] = ord_df.GarageFinish.replace(preserved_mapper_GarageFinish)\n",
    "\n",
    "# PavedDrive\n",
    "preserved_mapper_PavedDrive = {\"N\":0, \"P\" : 1, \"Y\": 2}\n",
    "ord_df['PavedDrive'] = ord_df.PavedDrive.replace(preserved_mapper_PavedDrive)\n",
    "\n",
    "sns.boxplot(ord_df.BsmtFinType_1, df.SalePrice.apply(np.log))\n",
    "\n",
    "print(ordList)\n",
    "ord_df.head()"
   ]
  },
  {
   "cell_type": "markdown",
   "metadata": {},
   "source": [
    "# 3. Rounding/binning numerical features"
   ]
  },
  {
   "cell_type": "code",
   "execution_count": 131,
   "metadata": {},
   "outputs": [
    {
     "name": "stdout",
     "output_type": "stream",
     "text": [
      "The number of float features is 20 before encoding\n",
      "The number of integer features is 13 before encoding\n",
      "['LotFrontage', 'LotArea', 'MasVnrArea', 'BsmtFinSF_1', 'BsmtFinSF_2', 'BsmtUnfSF', 'TotalBsmtSF', '_1stFlrSF', '_2ndFlrSF', 'LowQualFinSF', 'GrLivArea', 'GarageArea', 'WoodDeckSF', 'OpenPorchSF', 'EnclosedPorch', '_3SsnPorch', 'ScreenPorch', 'PoolArea', 'MiscVal', 'SalePrice']\n",
      "['YearBuilt', 'YearRemodAdd', 'BsmtFullBath', 'BsmtHalfBath', 'FullBath', 'HalfBath', 'BedroomAbvGr', 'KitchenAbvGr', 'TotRmsAbvGrd', 'Fireplaces', 'GarageYrBlt', 'GarageCars', 'YrSold']\n"
     ]
    },
    {
     "ename": "ValueError",
     "evalue": "could not convert string to float: 'Gd'",
     "output_type": "error",
     "traceback": [
      "\u001b[0;31m---------------------------------------------------------------------------\u001b[0m",
      "\u001b[0;31mValueError\u001b[0m                                Traceback (most recent call last)",
      "\u001b[0;32m<ipython-input-131-c804aa448eba>\u001b[0m in \u001b[0;36m<module>\u001b[0;34m()\u001b[0m\n\u001b[1;32m     12\u001b[0m \u001b[0msns\u001b[0m\u001b[0;34m.\u001b[0m\u001b[0mscatterplot\u001b[0m\u001b[0;34m(\u001b[0m\u001b[0mplotFeature\u001b[0m\u001b[0;34m,\u001b[0m \u001b[0mdf\u001b[0m\u001b[0;34m.\u001b[0m\u001b[0mSalePrice\u001b[0m\u001b[0;34m)\u001b[0m\u001b[0;34m\u001b[0m\u001b[0m\n\u001b[1;32m     13\u001b[0m \u001b[0msns\u001b[0m\u001b[0;34m.\u001b[0m\u001b[0mboxplot\u001b[0m\u001b[0;34m(\u001b[0m\u001b[0mplotFeature\u001b[0m\u001b[0;34m,\u001b[0m \u001b[0mdf\u001b[0m\u001b[0;34m.\u001b[0m\u001b[0mSalePrice\u001b[0m\u001b[0;34m)\u001b[0m\u001b[0;34m\u001b[0m\u001b[0m\n\u001b[0;32m---> 14\u001b[0;31m \u001b[0msns\u001b[0m\u001b[0;34m.\u001b[0m\u001b[0mjointplot\u001b[0m\u001b[0;34m(\u001b[0m\u001b[0mplotFeature\u001b[0m\u001b[0;34m,\u001b[0m \u001b[0mdf\u001b[0m\u001b[0;34m.\u001b[0m\u001b[0mSalePrice\u001b[0m\u001b[0;34m,\u001b[0m \u001b[0mkind\u001b[0m\u001b[0;34m=\u001b[0m\u001b[0;34m'kde'\u001b[0m\u001b[0;34m)\u001b[0m\u001b[0;34m\u001b[0m\u001b[0m\n\u001b[0m\u001b[1;32m     15\u001b[0m \u001b[0;34m\u001b[0m\u001b[0m\n\u001b[1;32m     16\u001b[0m \u001b[0;31m# Age of house at sale should be added\u001b[0m\u001b[0;34m\u001b[0m\u001b[0;34m\u001b[0m\u001b[0m\n",
      "\u001b[0;32m~/anaconda3/lib/python3.6/site-packages/seaborn/axisgrid.py\u001b[0m in \u001b[0;36mjointplot\u001b[0;34m(x, y, data, kind, stat_func, color, height, ratio, space, dropna, xlim, ylim, joint_kws, marginal_kws, annot_kws, **kwargs)\u001b[0m\n\u001b[1;32m   2312\u001b[0m         \u001b[0mjoint_kws\u001b[0m\u001b[0;34m.\u001b[0m\u001b[0msetdefault\u001b[0m\u001b[0;34m(\u001b[0m\u001b[0;34m\"shade\"\u001b[0m\u001b[0;34m,\u001b[0m \u001b[0;32mTrue\u001b[0m\u001b[0;34m)\u001b[0m\u001b[0;34m\u001b[0m\u001b[0m\n\u001b[1;32m   2313\u001b[0m         \u001b[0mjoint_kws\u001b[0m\u001b[0;34m.\u001b[0m\u001b[0msetdefault\u001b[0m\u001b[0;34m(\u001b[0m\u001b[0;34m\"cmap\"\u001b[0m\u001b[0;34m,\u001b[0m \u001b[0mcmap\u001b[0m\u001b[0;34m)\u001b[0m\u001b[0;34m\u001b[0m\u001b[0m\n\u001b[0;32m-> 2314\u001b[0;31m         \u001b[0mgrid\u001b[0m\u001b[0;34m.\u001b[0m\u001b[0mplot_joint\u001b[0m\u001b[0;34m(\u001b[0m\u001b[0mkdeplot\u001b[0m\u001b[0;34m,\u001b[0m \u001b[0;34m**\u001b[0m\u001b[0mjoint_kws\u001b[0m\u001b[0;34m)\u001b[0m\u001b[0;34m\u001b[0m\u001b[0m\n\u001b[0m\u001b[1;32m   2315\u001b[0m \u001b[0;34m\u001b[0m\u001b[0m\n\u001b[1;32m   2316\u001b[0m         \u001b[0mmarginal_kws\u001b[0m\u001b[0;34m.\u001b[0m\u001b[0msetdefault\u001b[0m\u001b[0;34m(\u001b[0m\u001b[0;34m\"shade\"\u001b[0m\u001b[0;34m,\u001b[0m \u001b[0;32mTrue\u001b[0m\u001b[0;34m)\u001b[0m\u001b[0;34m\u001b[0m\u001b[0m\n",
      "\u001b[0;32m~/anaconda3/lib/python3.6/site-packages/seaborn/axisgrid.py\u001b[0m in \u001b[0;36mplot_joint\u001b[0;34m(self, func, **kwargs)\u001b[0m\n\u001b[1;32m   1782\u001b[0m         \"\"\"\n\u001b[1;32m   1783\u001b[0m         \u001b[0mplt\u001b[0m\u001b[0;34m.\u001b[0m\u001b[0msca\u001b[0m\u001b[0;34m(\u001b[0m\u001b[0mself\u001b[0m\u001b[0;34m.\u001b[0m\u001b[0max_joint\u001b[0m\u001b[0;34m)\u001b[0m\u001b[0;34m\u001b[0m\u001b[0m\n\u001b[0;32m-> 1784\u001b[0;31m         \u001b[0mfunc\u001b[0m\u001b[0;34m(\u001b[0m\u001b[0mself\u001b[0m\u001b[0;34m.\u001b[0m\u001b[0mx\u001b[0m\u001b[0;34m,\u001b[0m \u001b[0mself\u001b[0m\u001b[0;34m.\u001b[0m\u001b[0my\u001b[0m\u001b[0;34m,\u001b[0m \u001b[0;34m**\u001b[0m\u001b[0mkwargs\u001b[0m\u001b[0;34m)\u001b[0m\u001b[0;34m\u001b[0m\u001b[0m\n\u001b[0m\u001b[1;32m   1785\u001b[0m \u001b[0;34m\u001b[0m\u001b[0m\n\u001b[1;32m   1786\u001b[0m         \u001b[0;32mreturn\u001b[0m \u001b[0mself\u001b[0m\u001b[0;34m\u001b[0m\u001b[0m\n",
      "\u001b[0;32m~/anaconda3/lib/python3.6/site-packages/seaborn/distributions.py\u001b[0m in \u001b[0;36mkdeplot\u001b[0;34m(data, data2, shade, vertical, kernel, bw, gridsize, cut, clip, legend, cumulative, shade_lowest, cbar, cbar_ax, cbar_kws, ax, **kwargs)\u001b[0m\n\u001b[1;32m    651\u001b[0m         \u001b[0;32mreturn\u001b[0m \u001b[0max\u001b[0m\u001b[0;34m\u001b[0m\u001b[0m\n\u001b[1;32m    652\u001b[0m \u001b[0;34m\u001b[0m\u001b[0m\n\u001b[0;32m--> 653\u001b[0;31m     \u001b[0mdata\u001b[0m \u001b[0;34m=\u001b[0m \u001b[0mdata\u001b[0m\u001b[0;34m.\u001b[0m\u001b[0mastype\u001b[0m\u001b[0;34m(\u001b[0m\u001b[0mnp\u001b[0m\u001b[0;34m.\u001b[0m\u001b[0mfloat64\u001b[0m\u001b[0;34m)\u001b[0m\u001b[0;34m\u001b[0m\u001b[0m\n\u001b[0m\u001b[1;32m    654\u001b[0m     \u001b[0;32mif\u001b[0m \u001b[0mdata2\u001b[0m \u001b[0;32mis\u001b[0m \u001b[0;32mnot\u001b[0m \u001b[0;32mNone\u001b[0m\u001b[0;34m:\u001b[0m\u001b[0;34m\u001b[0m\u001b[0m\n\u001b[1;32m    655\u001b[0m         \u001b[0;32mif\u001b[0m \u001b[0misinstance\u001b[0m\u001b[0;34m(\u001b[0m\u001b[0mdata2\u001b[0m\u001b[0;34m,\u001b[0m \u001b[0mlist\u001b[0m\u001b[0;34m)\u001b[0m\u001b[0;34m:\u001b[0m\u001b[0;34m\u001b[0m\u001b[0m\n",
      "\u001b[0;31mValueError\u001b[0m: could not convert string to float: 'Gd'"
     ]
    },
    {
     "data": {
      "image/png": "[encoded data removed]",
      "text/plain": [
       "<Figure size 864x576 with 1 Axes>"
      ]
     },
     "metadata": {},
     "output_type": "display_data"
    },
    {
     "data": {
      "image/png": "[encoded data removed]",
      "text/plain": [
       "<Figure size 432x432 with 3 Axes>"
      ]
     },
     "metadata": {},
     "output_type": "display_data"
    }
   ],
   "source": [
    "floatList = [k for k,v in typeConvertDict.items() if v==\"Float\"]\n",
    "intList = [k for k,v in typeConvertDict.items() if  v==\"Integer\"]\n",
    "\n",
    "print(\"The number of float features is \" + str(len(floatList)) + \" before encoding\")\n",
    "print(\"The number of integer features is \" + str(len(intList)) + \" before encoding\")\n",
    "\n",
    "print(floatList)\n",
    "print(intList)\n",
    "\n",
    "\n",
    "plotFeature = df.FireplaceQu\n",
    "sns.scatterplot(plotFeature, df.SalePrice)\n",
    "sns.boxplot(plotFeature, df.SalePrice)\n",
    "sns.jointplot(plotFeature, df.SalePrice, kind='kde')\n",
    "\n",
    "# Age of house at sale should be added\n",
    "\n",
    "# MasVnrArea is messed up (lots of values of 0) and can probably be dropped,\n",
    "# since it probably correlates with other variables\n",
    "\n",
    "# BsmtFinSF_1 also has lots of zeros when there's no basement. Maybe these can be separated?\n",
    "\n",
    "# BsmtFinSF_2 is unintelligible - consider deleting it\n",
    "\n",
    "# BsmtUnfSF is nonlinear\n",
    "\n",
    "# TotalBsmtSF looks to be linearly correlated though again, many have zeros and it's not a problem\n",
    "\n",
    "# _1stFlrSF will need to be BOX-COX tranformed because the variance isn't constant!\n",
    "\n",
    "# _2ndFlrSF is linear but needs to be BOX-COX transformed because the variance isn't constant! There are also tons of zeroes.\n",
    "\n",
    "# LowQualFinSF can be removed, it's not really correlated with the results\n",
    "\n",
    "# GrLivArea is essentially linear, with a slight quadratic shape\n",
    "\n",
    "# GarageArea is essentially linear but has a bunch of zeros\n",
    "\n",
    "# WoodDeckSF is mildly linear but with tons of zeros\n",
    "\n",
    "# OpenPorchSF is really nonlinear and many zeros, so maybe it should be dropped or boolean\n",
    "\n",
    "# EnclosedPorch... Convert to boolean\n",
    "\n",
    "# Definitely drop _3SsnPorch\n",
    "\n",
    "# Skip ScreenPorch. There's a mild effect but there are too many zeros\n",
    "\n",
    "# Skip PoolArea\n",
    "\n",
    "# Drop MiscVal\n",
    "\n",
    "# YearBuilt is good, but needs to be fitted parabolically\n",
    "\n",
    "# YearRemodAdd is a very weak effect. Maybe useful but we should add a boolean for \"wasRemodeled\"\n",
    "\n",
    "# FullBath + BsmtFullBath + HalfBath + BsmtHalfBath is nicely linear\n",
    "\n",
    "# BedroomAbvGr shockingly has a weird connection to price!\n",
    "\n",
    "# KitchenAbvGr has a strange negative correlation with price\n",
    "\n",
    "# TotRmsAbvGrd has a quadratic relationship with price\n",
    "\n",
    "# Fireplaces has a sqrt relationship with price\n",
    "\n",
    "# GarageYrBlt has an exponential relationship with price, but that probably has to do with year house was built\n",
    "\n",
    "# GarageCars has an exponential relationship with price as well\n",
    "\n",
    "# YrSold is shockingly uncorrelated with price, but I'd still be wary to leave it out."
   ]
  },
  {
   "cell_type": "markdown",
   "metadata": {},
   "source": [
    "# 4. Impute missing data"
   ]
  },
  {
   "cell_type": "code",
   "execution_count": null,
   "metadata": {},
   "outputs": [],
   "source": []
  },
  {
   "cell_type": "markdown",
   "metadata": {},
   "source": [
    "# 5. Create new features based on interactions of existing variables"
   ]
  },
  {
   "cell_type": "code",
   "execution_count": null,
   "metadata": {},
   "outputs": [],
   "source": [
    "# Basement "
   ]
  },
  {
   "cell_type": "markdown",
   "metadata": {},
   "source": [
    "# 6. Non-linear encoding for linear algorithms"
   ]
  },
  {
   "cell_type": "code",
   "execution_count": null,
   "metadata": {},
   "outputs": [],
   "source": []
  },
  {
   "cell_type": "markdown",
   "metadata": {},
   "source": [
    "### MSSubClass: Identifies the type of dwelling involved in the sale.\t\n",
    "\n",
    "        20\t1-STORY 1946 & NEWER ALL STYLES\n",
    "        30\t1-STORY 1945 & OLDER\n",
    "        40\t1-STORY W/FINISHED ATTIC ALL AGES\n",
    "        45\t1-1/2 STORY - UNFINISHED ALL AGES\n",
    "        50\t1-1/2 STORY FINISHED ALL AGES\n",
    "        60\t2-STORY 1946 & NEWER\n",
    "        70\t2-STORY 1945 & OLDER\n",
    "        75\t2-1/2 STORY ALL AGES\n",
    "        80\tSPLIT OR MULTI-LEVEL\n",
    "        85\tSPLIT FOYER\n",
    "        90\tDUPLEX - ALL STYLES AND AGES\n",
    "       120\t1-STORY PUD (Planned Unit Development) - 1946 & NEWER\n",
    "       150\t1-1/2 STORY PUD - ALL AGES\n",
    "       160\t2-STORY PUD - 1946 & NEWER\n",
    "       180\tPUD - MULTILEVEL - INCL SPLIT LEV/FOYER\n",
    "       190\t2 FAMILY CONVERSION - ALL STYLES AND AGES"
   ]
  },
  {
   "cell_type": "markdown",
   "metadata": {},
   "source": [
    "### MSZoning: Identifies the general zoning classification of the sale.\n",
    "\t\t\n",
    "       A\tAgriculture\n",
    "       C\tCommercial\n",
    "       FV\tFloating Village Residential\n",
    "       I\tIndustrial\n",
    "       RH\tResidential High Density\n",
    "       RL\tResidential Low Density\n",
    "       RP\tResidential Low Density Park \n",
    "       RM\tResidential Medium Density"
   ]
  },
  {
   "cell_type": "markdown",
   "metadata": {},
   "source": [
    "### LotFrontage: Linear feet of street connected to property"
   ]
  },
  {
   "cell_type": "markdown",
   "metadata": {},
   "source": [
    "### Street: Type of road access to property\n",
    "\n",
    "       Grvl\tGravel\t\n",
    "       Pave\tPaved"
   ]
  },
  {
   "cell_type": "markdown",
   "metadata": {},
   "source": [
    "### Alley: Type of alley access to property\n",
    "\n",
    "       Grvl\tGravel\n",
    "       Pave\tPaved\n",
    "       NA \tNo alley access"
   ]
  },
  {
   "cell_type": "markdown",
   "metadata": {},
   "source": [
    "### LotShape: General shape of property\n",
    "\n",
    "       Reg\tRegular\t\n",
    "       IR1\tSlightly irregular\n",
    "       IR2\tModerately Irregular\n",
    "       IR3\tIrregular"
   ]
  },
  {
   "cell_type": "markdown",
   "metadata": {},
   "source": [
    "### LandContour: Flatness of the property\n",
    "\n",
    "       Lvl\tNear Flat/Level\t\n",
    "       Bnk\tBanked - Quick and significant rise from street grade to building\n",
    "       HLS\tHillside - Significant slope from side to side\n",
    "       Low\tDepression"
   ]
  },
  {
   "cell_type": "markdown",
   "metadata": {},
   "source": [
    "### Utilities: Type of utilities available\n",
    "\t\t\n",
    "       AllPub\tAll public Utilities (E,G,W,& S)\t\n",
    "       NoSewr\tElectricity, Gas, and Water (Septic Tank)\n",
    "       NoSeWa\tElectricity and Gas Only\n",
    "       ELO\tElectricity only\t"
   ]
  },
  {
   "cell_type": "markdown",
   "metadata": {},
   "source": [
    "### LotConfig: Lot configuration\n",
    "\n",
    "       Inside\tInside lot\n",
    "       Corner\tCorner lot\n",
    "       CulDSac\tCul-de-sac\n",
    "       FR2\tFrontage on 2 sides of property\n",
    "       FR3\tFrontage on 3 sides of property"
   ]
  },
  {
   "cell_type": "markdown",
   "metadata": {},
   "source": [
    "### LandSlope: Slope of property\n",
    "\t\t\n",
    "       Gtl\tGentle slope\n",
    "       Mod\tModerate Slope\t\n",
    "       Sev\tSevere Slope"
   ]
  },
  {
   "cell_type": "markdown",
   "metadata": {},
   "source": [
    "### Neighborhood: Physical locations within Ames city limits\n",
    "\n",
    "       Blmngtn\tBloomington Heights\n",
    "       Blueste\tBluestem\n",
    "       BrDale\tBriardale\n",
    "       BrkSide\tBrookside\n",
    "       ClearCr\tClear Creek\n",
    "       CollgCr\tCollege Creek\n",
    "       Crawfor\tCrawford\n",
    "       Edwards\tEdwards\n",
    "       Gilbert\tGilbert\n",
    "       IDOTRR\tIowa DOT and Rail Road\n",
    "       MeadowV\tMeadow Village\n",
    "       Mitchel\tMitchell\n",
    "       Names\tNorth Ames\n",
    "       NoRidge\tNorthridge\n",
    "       NPkVill\tNorthpark Villa\n",
    "       NridgHt\tNorthridge Heights\n",
    "       NWAmes\tNorthwest Ames\n",
    "       OldTown\tOld Town\n",
    "       SWISU\tSouth & West of Iowa State University\n",
    "       Sawyer\tSawyer\n",
    "       SawyerW\tSawyer West\n",
    "       Somerst\tSomerset\n",
    "       StoneBr\tStone Brook\n",
    "       Timber\tTimberland\n",
    "       Veenker\tVeenker"
   ]
  },
  {
   "cell_type": "markdown",
   "metadata": {},
   "source": [
    "### Condition1: Proximity to various conditions\n",
    "\t\n",
    "       Artery\tAdjacent to arterial street\n",
    "       Feedr\tAdjacent to feeder street\t\n",
    "       Norm\tNormal\t\n",
    "       RRNn\tWithin 200' of North-South Railroad\n",
    "       RRAn\tAdjacent to North-South Railroad\n",
    "       PosN\tNear positive off-site feature--park, greenbelt, etc.\n",
    "       PosA\tAdjacent to postive off-site feature\n",
    "       RRNe\tWithin 200' of East-West Railroad\n",
    "       RRAe\tAdjacent to East-West Railroad"
   ]
  },
  {
   "cell_type": "markdown",
   "metadata": {},
   "source": [
    "### Condition2: Proximity to various conditions (if more than one is present)\n",
    "\t\t\n",
    "       Artery\tAdjacent to arterial street\n",
    "       Feedr\tAdjacent to feeder street\t\n",
    "       Norm\tNormal\t\n",
    "       RRNn\tWithin 200' of North-South Railroad\n",
    "       RRAn\tAdjacent to North-South Railroad\n",
    "       PosN\tNear positive off-site feature--park, greenbelt, etc.\n",
    "       PosA\tAdjacent to postive off-site feature\n",
    "       RRNe\tWithin 200' of East-West Railroad\n",
    "       RRAe\tAdjacent to East-West Railroad"
   ]
  },
  {
   "cell_type": "markdown",
   "metadata": {},
   "source": [
    "### BldgType: Type of dwelling\n",
    "\t\t\n",
    "       1Fam\tSingle-family Detached\t\n",
    "       2FmCon\tTwo-family Conversion; originally built as one-family dwelling\n",
    "       Duplx\tDuplex\n",
    "       TwnhsE\tTownhouse End Unit\n",
    "       TwnhsI\tTownhouse Inside Unit"
   ]
  },
  {
   "cell_type": "markdown",
   "metadata": {},
   "source": [
    "### HouseStyle: Style of dwelling\n",
    "\t\n",
    "       1Story\tOne story\n",
    "       1.5Fin\tOne and one-half story: 2nd level finished\n",
    "       1.5Unf\tOne and one-half story: 2nd level unfinished\n",
    "       2Story\tTwo story\n",
    "       2.5Fin\tTwo and one-half story: 2nd level finished\n",
    "       2.5Unf\tTwo and one-half story: 2nd level unfinished\n",
    "       SFoyer\tSplit Foyer\n",
    "       SLvl\tSplit Level"
   ]
  },
  {
   "cell_type": "markdown",
   "metadata": {},
   "source": [
    "### OverallQual: Rates the overall material and finish of the house\n",
    "\n",
    "       10\tVery Excellent\n",
    "       9\tExcellent\n",
    "       8\tVery Good\n",
    "       7\tGood\n",
    "       6\tAbove Average\n",
    "       5\tAverage\n",
    "       4\tBelow Average\n",
    "       3\tFair\n",
    "       2\tPoor\n",
    "       1\tVery Poor"
   ]
  },
  {
   "cell_type": "markdown",
   "metadata": {},
   "source": [
    "### OverallCond: Rates the overall condition of the house\n",
    "\n",
    "       10\tVery Excellent\n",
    "       9\tExcellent\n",
    "       8\tVery Good\n",
    "       7\tGood\n",
    "       6\tAbove Average\t\n",
    "       5\tAverage\n",
    "       4\tBelow Average\t\n",
    "       3\tFair\n",
    "       2\tPoor\n",
    "       1\tVery Poor"
   ]
  },
  {
   "cell_type": "markdown",
   "metadata": {},
   "source": [
    "### YearBuilt: Original construction date\n"
   ]
  },
  {
   "cell_type": "markdown",
   "metadata": {},
   "source": [
    "### YearRemodAdd: Remodel date (same as construction date if no remodeling or additions)"
   ]
  },
  {
   "cell_type": "markdown",
   "metadata": {},
   "source": [
    "### RoofStyle: Type of roof\n",
    "\n",
    "       Flat\tFlat\n",
    "       Gable\tGable\n",
    "       Gambrel\tGabrel (Barn)\n",
    "       Hip\tHip\n",
    "       Mansard\tMansard\n",
    "       Shed\tShed"
   ]
  },
  {
   "cell_type": "markdown",
   "metadata": {},
   "source": [
    "### RoofMatl: Roof material\n",
    "\n",
    "       ClyTile\tClay or Tile\n",
    "       CompShg\tStandard (Composite) Shingle\n",
    "       Membran\tMembrane\n",
    "       Metal\tMetal\n",
    "       Roll\tRoll\n",
    "       Tar&Grv\tGravel & Tar\n",
    "       WdShake\tWood Shakes\n",
    "       WdShngl\tWood Shingles"
   ]
  },
  {
   "cell_type": "markdown",
   "metadata": {},
   "source": [
    "### Exterior1st: Exterior covering on house\n",
    "\n",
    "       AsbShng\tAsbestos Shingles\n",
    "       AsphShn\tAsphalt Shingles\n",
    "       BrkComm\tBrick Common\n",
    "       BrkFace\tBrick Face\n",
    "       CBlock\tCinder Block\n",
    "       CemntBd\tCement Board\n",
    "       HdBoard\tHard Board\n",
    "       ImStucc\tImitation Stucco\n",
    "       MetalSd\tMetal Siding\n",
    "       Other\tOther\n",
    "       Plywood\tPlywood\n",
    "       PreCast\tPreCast\t\n",
    "       Stone\tStone\n",
    "       Stucco\tStucco\n",
    "       VinylSd\tVinyl Siding\n",
    "       Wd Sdng\tWood Siding\n",
    "       WdShing\tWood Shingles"
   ]
  },
  {
   "cell_type": "markdown",
   "metadata": {},
   "source": [
    "### Exterior2nd: Exterior covering on house (if more than one material)\n",
    "\n",
    "       AsbShng\tAsbestos Shingles\n",
    "       AsphShn\tAsphalt Shingles\n",
    "       BrkComm\tBrick Common\n",
    "       BrkFace\tBrick Face\n",
    "       CBlock\tCinder Block\n",
    "       CemntBd\tCement Board\n",
    "       HdBoard\tHard Board\n",
    "       ImStucc\tImitation Stucco\n",
    "       MetalSd\tMetal Siding\n",
    "       Other\tOther\n",
    "       Plywood\tPlywood\n",
    "       PreCast\tPreCast\n",
    "       Stone\tStone\n",
    "       Stucco\tStucco\n",
    "       VinylSd\tVinyl Siding\n",
    "       Wd Sdng\tWood Siding\n",
    "       WdShing\tWood Shingles"
   ]
  },
  {
   "cell_type": "markdown",
   "metadata": {},
   "source": [
    "### MasVnrType: Masonry veneer type\n",
    "\n",
    "       BrkCmn\tBrick Common\n",
    "       BrkFace\tBrick Face\n",
    "       CBlock\tCinder Block\n",
    "       None\tNone\n",
    "       Stone\tStone"
   ]
  },
  {
   "cell_type": "markdown",
   "metadata": {},
   "source": [
    "### MasVnrArea: Masonry veneer area in square feet"
   ]
  },
  {
   "cell_type": "markdown",
   "metadata": {},
   "source": [
    "### ExterQual: Evaluates the quality of the material on the exterior \n",
    "\t\t\n",
    "       Ex\tExcellent\n",
    "       Gd\tGood\n",
    "       TA\tAverage/Typical\n",
    "       Fa\tFair\n",
    "       Po\tPoor"
   ]
  },
  {
   "cell_type": "markdown",
   "metadata": {},
   "source": [
    "### ExterCond: Evaluates the present condition of the material on the exterior\n",
    "\t\t\n",
    "       Ex\tExcellent\n",
    "       Gd\tGood\n",
    "       TA\tAverage/Typical\n",
    "       Fa\tFair\n",
    "       Po\tPoor"
   ]
  },
  {
   "cell_type": "markdown",
   "metadata": {},
   "source": [
    "### Foundation: Type of foundation\n",
    "\t\t\n",
    "       BrkTil\tBrick & Tile\n",
    "       CBlock\tCinder Block\n",
    "       PConc\tPoured Contrete\t\n",
    "       Slab\tSlab\n",
    "       Stone\tStone\n",
    "       Wood\tWood"
   ]
  },
  {
   "cell_type": "markdown",
   "metadata": {},
   "source": [
    "### BsmtQual: Evaluates the height of the basement\n",
    "\n",
    "       Ex\tExcellent (100+ inches)\t\n",
    "       Gd\tGood (90-99 inches)\n",
    "       TA\tTypical (80-89 inches)\n",
    "       Fa\tFair (70-79 inches)\n",
    "       Po\tPoor (<70 inches\n",
    "       NA\tNo Basement"
   ]
  },
  {
   "cell_type": "markdown",
   "metadata": {},
   "source": [
    "### BsmtCond: Evaluates the general condition of the basement\n",
    "\n",
    "       Ex\tExcellent\n",
    "       Gd\tGood\n",
    "       TA\tTypical - slight dampness allowed\n",
    "       Fa\tFair - dampness or some cracking or settling\n",
    "       Po\tPoor - Severe cracking, settling, or wetness\n",
    "       NA\tNo Basement\n",
    " "
   ]
  },
  {
   "cell_type": "markdown",
   "metadata": {},
   "source": [
    "### BsmtExposure: Refers to walkout or garden level walls\n",
    "\n",
    "       Gd\tGood Exposure\n",
    "       Av\tAverage Exposure (split levels or foyers typically score average or above)\t\n",
    "       Mn\tMimimum Exposure\n",
    "       No\tNo Exposure\n",
    "       NA\tNo Basement"
   ]
  },
  {
   "cell_type": "markdown",
   "metadata": {},
   "source": [
    "### BsmtFinType1: Rating of basement finished area\n",
    "\n",
    "       GLQ\tGood Living Quarters\n",
    "       ALQ\tAverage Living Quarters\n",
    "       BLQ\tBelow Average Living Quarters\t\n",
    "       Rec\tAverage Rec Room\n",
    "       LwQ\tLow Quality\n",
    "       Unf\tUnfinshed\n",
    "       NA\tNo Basement"
   ]
  },
  {
   "cell_type": "markdown",
   "metadata": {},
   "source": [
    "### BsmtFinSF1: Type 1 finished square feet"
   ]
  },
  {
   "cell_type": "markdown",
   "metadata": {},
   "source": [
    "### BsmtFinType2: Rating of basement finished area (if multiple types)\n",
    "\n",
    "       GLQ\tGood Living Quarters\n",
    "       ALQ\tAverage Living Quarters\n",
    "       BLQ\tBelow Average Living Quarters\t\n",
    "       Rec\tAverage Rec Room\n",
    "       LwQ\tLow Quality\n",
    "       Unf\tUnfinshed\n",
    "       NA\tNo Basement"
   ]
  },
  {
   "cell_type": "markdown",
   "metadata": {},
   "source": [
    "### BsmtFinSF2: Type 2 finished square feet\n"
   ]
  },
  {
   "cell_type": "markdown",
   "metadata": {},
   "source": [
    "### BsmtUnfSF: Unfinished square feet of basement area"
   ]
  },
  {
   "cell_type": "markdown",
   "metadata": {},
   "source": [
    "### TotalBsmtSF: Total square feet of basement area\n"
   ]
  },
  {
   "cell_type": "markdown",
   "metadata": {},
   "source": [
    "### Heating: Type of heating\n",
    "\t\t\n",
    "       Floor\tFloor Furnace\n",
    "       GasA\tGas forced warm air furnace\n",
    "       GasW\tGas hot water or steam heat\n",
    "       Grav\tGravity furnace\t\n",
    "       OthW\tHot water or steam heat other than gas\n",
    "       Wall\tWall furnace"
   ]
  },
  {
   "cell_type": "markdown",
   "metadata": {},
   "source": [
    "### HeatingQC: Heating quality and condition\n",
    "\n",
    "       Ex\tExcellent\n",
    "       Gd\tGood\n",
    "       TA\tAverage/Typical\n",
    "       Fa\tFair\n",
    "       Po\tPoor"
   ]
  },
  {
   "cell_type": "markdown",
   "metadata": {},
   "source": [
    "### CentralAir: Central air conditioning\n",
    "\n",
    "       N\tNo\n",
    "       Y\tYes"
   ]
  },
  {
   "cell_type": "markdown",
   "metadata": {},
   "source": [
    "### Electrical: Electrical system\n",
    "\n",
    "       SBrkr\tStandard Circuit Breakers & Romex\n",
    "       FuseA\tFuse Box over 60 AMP and all Romex wiring (Average)\t\n",
    "       FuseF\t60 AMP Fuse Box and mostly Romex wiring (Fair)\n",
    "       FuseP\t60 AMP Fuse Box and mostly knob & tube wiring (poor)\n",
    "       Mix\tMixed"
   ]
  },
  {
   "cell_type": "markdown",
   "metadata": {},
   "source": [
    "### 1stFlrSF: First Floor square feet\n"
   ]
  },
  {
   "cell_type": "markdown",
   "metadata": {},
   "source": [
    "### 2ndFlrSF: Second floor square feet\n"
   ]
  },
  {
   "cell_type": "markdown",
   "metadata": {},
   "source": [
    "### LowQualFinSF: Low quality finished square feet (all floors)"
   ]
  },
  {
   "cell_type": "markdown",
   "metadata": {},
   "source": [
    "### GrLivArea: Above grade (ground) living area square feet"
   ]
  },
  {
   "cell_type": "markdown",
   "metadata": {},
   "source": [
    "### BsmtFullBath: Basement full bathrooms"
   ]
  },
  {
   "cell_type": "markdown",
   "metadata": {},
   "source": [
    "### BsmtHalfBath: Basement half bathrooms\n"
   ]
  },
  {
   "cell_type": "markdown",
   "metadata": {},
   "source": [
    "### FullBath: Full bathrooms above grade\n"
   ]
  },
  {
   "cell_type": "markdown",
   "metadata": {},
   "source": [
    "### HalfBath: Half baths above grade"
   ]
  },
  {
   "cell_type": "markdown",
   "metadata": {},
   "source": [
    "### BedroomAbvGr: Bedrooms above grade (does NOT include basement bedrooms)\n"
   ]
  },
  {
   "cell_type": "markdown",
   "metadata": {},
   "source": [
    "### KitchenAbvGr: Kitchens above grade"
   ]
  },
  {
   "cell_type": "markdown",
   "metadata": {},
   "source": [
    "### KitchenQual: Kitchen quality\n",
    "\n",
    "       Ex\tExcellent\n",
    "       Gd\tGood\n",
    "       TA\tTypical/Average\n",
    "       Fa\tFair\n",
    "       Po\tPoor"
   ]
  },
  {
   "cell_type": "markdown",
   "metadata": {},
   "source": [
    "### TotRmsAbvGrd: Total rooms above grade (does not include bathrooms)"
   ]
  },
  {
   "cell_type": "markdown",
   "metadata": {},
   "source": [
    "### Functional: Home functionality (Assume typical unless deductions are warranted)\n",
    "\n",
    "       Typ\tTypical Functionality\n",
    "       Min1\tMinor Deductions 1\n",
    "       Min2\tMinor Deductions 2\n",
    "       Mod\tModerate Deductions\n",
    "       Maj1\tMajor Deductions 1\n",
    "       Maj2\tMajor Deductions 2\n",
    "       Sev\tSeverely Damaged\n",
    "       Sal\tSalvage only\n",
    "      "
   ]
  },
  {
   "cell_type": "markdown",
   "metadata": {},
   "source": [
    "### Fireplaces: Number of fireplaces"
   ]
  },
  {
   "cell_type": "markdown",
   "metadata": {},
   "source": [
    "### FireplaceQu: Fireplace quality\n",
    "\n",
    "       Ex\tExcellent - Exceptional Masonry Fireplace\n",
    "       Gd\tGood - Masonry Fireplace in main level\n",
    "       TA\tAverage - Prefabricated Fireplace in main living area or Masonry Fireplace in basement\n",
    "       Fa\tFair - Prefabricated Fireplace in basement\n",
    "       Po\tPoor - Ben Franklin Stove\n",
    "       NA\tNo Fireplace"
   ]
  },
  {
   "cell_type": "markdown",
   "metadata": {},
   "source": [
    "### GarageType: Garage location\n",
    "\t\t\n",
    "       2Types\tMore than one type of garage\n",
    "       Attchd\tAttached to home\n",
    "       Basment\tBasement Garage\n",
    "       BuiltIn\tBuilt-In (Garage part of house - typically has room above garage)\n",
    "       CarPort\tCar Port\n",
    "       Detchd\tDetached from home\n",
    "       NA\tNo Garage"
   ]
  },
  {
   "cell_type": "markdown",
   "metadata": {},
   "source": [
    "### GarageYrBlt: Year garage was built"
   ]
  },
  {
   "cell_type": "markdown",
   "metadata": {},
   "source": [
    "### GarageFinish: Interior finish of the garage\n",
    "\n",
    "       Fin\tFinished\n",
    "       RFn\tRough Finished\t\n",
    "       Unf\tUnfinished\n",
    "       NA\tNo Garage"
   ]
  },
  {
   "cell_type": "markdown",
   "metadata": {},
   "source": [
    "### GarageCars: Size of garage in car capacity"
   ]
  },
  {
   "cell_type": "markdown",
   "metadata": {},
   "source": [
    "### GarageArea: Size of garage in square feet"
   ]
  },
  {
   "cell_type": "markdown",
   "metadata": {},
   "source": [
    "### GarageQual: Garage quality\n",
    "\n",
    "       Ex\tExcellent\n",
    "       Gd\tGood\n",
    "       TA\tTypical/Average\n",
    "       Fa\tFair\n",
    "       Po\tPoor\n",
    "       NA\tNo Garage"
   ]
  },
  {
   "cell_type": "markdown",
   "metadata": {},
   "source": [
    "### GarageCond: Garage condition\n",
    "\n",
    "       Ex\tExcellent\n",
    "       Gd\tGood\n",
    "       TA\tTypical/Average\n",
    "       Fa\tFair\n",
    "       Po\tPoor\n",
    "       NA\tNo Garage"
   ]
  },
  {
   "cell_type": "markdown",
   "metadata": {},
   "source": [
    "### PavedDrive: Paved driveway\n",
    "\n",
    "       Y\tPaved \n",
    "       P\tPartial Pavement\n",
    "       N\tDirt/Gravel"
   ]
  },
  {
   "cell_type": "markdown",
   "metadata": {},
   "source": [
    "### WoodDeckSF: Wood deck area in square feet"
   ]
  },
  {
   "cell_type": "markdown",
   "metadata": {},
   "source": [
    "### OpenPorchSF: Open porch area in square feet\n"
   ]
  },
  {
   "cell_type": "markdown",
   "metadata": {},
   "source": [
    "### EnclosedPorch: Enclosed porch area in square feet\n"
   ]
  },
  {
   "cell_type": "markdown",
   "metadata": {},
   "source": [
    "### 3SsnPorch: Three season porch area in square feet\n"
   ]
  },
  {
   "cell_type": "markdown",
   "metadata": {},
   "source": [
    "### ScreenPorch: Screen porch area in square feet"
   ]
  },
  {
   "cell_type": "markdown",
   "metadata": {},
   "source": [
    "### PoolArea: Pool area in square feet"
   ]
  },
  {
   "cell_type": "markdown",
   "metadata": {},
   "source": [
    "### PoolQC: Pool quality\n",
    "\t\t\n",
    "       Ex\tExcellent\n",
    "       Gd\tGood\n",
    "       TA\tAverage/Typical\n",
    "       Fa\tFair\n",
    "       NA\tNo Pool"
   ]
  },
  {
   "cell_type": "markdown",
   "metadata": {},
   "source": [
    "### Fence: Fence quality\n",
    "\t\t\n",
    "       GdPrv\tGood Privacy\n",
    "       MnPrv\tMinimum Privacy\n",
    "       GdWo\tGood Wood\n",
    "       MnWw\tMinimum Wood/Wire\n",
    "       NA\tNo Fence"
   ]
  },
  {
   "cell_type": "markdown",
   "metadata": {},
   "source": [
    "### MiscFeature: Miscellaneous feature not covered in other categories\n",
    "\t\t\n",
    "       Elev\tElevator\n",
    "       Gar2\t2nd Garage (if not described in garage section)\n",
    "       Othr\tOther\n",
    "       Shed\tShed (over 100 SF)\n",
    "       TenC\tTennis Court\n",
    "       NA\tNone"
   ]
  },
  {
   "cell_type": "markdown",
   "metadata": {},
   "source": [
    "### MiscVal: $Value of miscellaneous feature"
   ]
  },
  {
   "cell_type": "markdown",
   "metadata": {},
   "source": [
    "### MoSold: Month Sold (MM)"
   ]
  },
  {
   "cell_type": "markdown",
   "metadata": {},
   "source": [
    "### YrSold: Year Sold (YYYY)"
   ]
  },
  {
   "cell_type": "markdown",
   "metadata": {},
   "source": [
    "### SaleType: Type of sale\n",
    "\t\t\n",
    "       WD \tWarranty Deed - Conventional\n",
    "       CWD\tWarranty Deed - Cash\n",
    "       VWD\tWarranty Deed - VA Loan\n",
    "       New\tHome just constructed and sold\n",
    "       COD\tCourt Officer Deed/Estate\n",
    "       Con\tContract 15% Down payment regular terms\n",
    "       ConLw\tContract Low Down payment and low interest\n",
    "       ConLI\tContract Low Interest\n",
    "       ConLD\tContract Low Down\n",
    "       Oth\tOther"
   ]
  },
  {
   "cell_type": "markdown",
   "metadata": {},
   "source": [
    "### SaleCondition: Condition of sale\n",
    "\n",
    "       Normal\tNormal Sale\n",
    "       Abnorml\tAbnormal Sale -  trade, foreclosure, short sale\n",
    "       AdjLand\tAdjoining Land Purchase\n",
    "       Alloca\tAllocation - two linked properties with separate deeds, typically condo with a garage unit\t\n",
    "       Family\tSale between family members\n",
    "       Partial\tHome was not completed when last assessed (associated with New Homes)"
   ]
  }
 ],
 "metadata": {
  "kernelspec": {
   "display_name": "Python [default]",
   "language": "python",
   "name": "python3"
  },
  "language_info": {
   "codemirror_mode": {
    "name": "ipython",
    "version": 3
   },
   "file_extension": ".py",
   "mimetype": "text/x-python",
   "name": "python",
   "nbconvert_exporter": "python",
   "pygments_lexer": "ipython3",
   "version": "3.6.6"
  }
 },
 "nbformat": 4,
 "nbformat_minor": 2
}
